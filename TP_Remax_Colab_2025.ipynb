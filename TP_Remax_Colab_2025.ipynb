{
  "cells": [
    {
      "cell_type": "markdown",
      "metadata": {
        "id": "T0NlF9nHmdZX"
      },
      "source": [
        "# 1. Carga de bibliotecas\n",
        "\n",
        "Seccion para instalar e importar bibliotecas necesarias"
      ]
    },
    {
      "cell_type": "code",
      "execution_count": null,
      "metadata": {
        "colab": {
          "base_uri": "https://localhost:8080/"
        },
        "collapsed": true,
        "id": "1AEhaS_8mr1l",
        "outputId": "a3aee058-49ed-42bb-dbd7-65a2981cac75"
      },
      "outputs": [],
      "source": [
        "# Acá instalamos la biblioteca fitter para el ajuste de funciones\n",
        "%pip install fitter"
      ]
    },
    {
      "cell_type": "code",
      "execution_count": 8,
      "metadata": {
        "id": "SzsbMMQPnqI0"
      },
      "outputs": [],
      "source": [
        "# Acá importarmos todas las bibliotecas necesarias: Pandas, Numpy, Scipy y Fitter\n",
        "from fitter import Fitter\n",
        "import pandas as pd\n",
        "import numpy as np\n",
        "import matplotlib.pyplot as plt\n",
        "from scipy import stats\n",
        "import csv"
      ]
    },
    {
      "cell_type": "code",
      "execution_count": null,
      "metadata": {
        "colab": {
          "base_uri": "https://localhost:8080/",
          "height": 321
        },
        "id": "nmtJhWE7pLpg",
        "outputId": "0e6ad8ec-a162-4f77-f216-fd5bfa655934"
      },
      "outputs": [],
      "source": [
        "# Esto se hace para montar el gogle drive y poder acceder datos alojados allí.\n",
        "from google.colab import drive\n",
        "drive.mount('/content/drive')"
      ]
    },
    {
      "cell_type": "markdown",
      "metadata": {
        "id": "c2vAl1XAp-rz"
      },
      "source": [
        "# 2. Carga de datos\n",
        "\n",
        "\n",
        "\n"
      ]
    },
    {
      "cell_type": "code",
      "execution_count": 9,
      "metadata": {
        "id": "vMJuZZt9AR-o"
      },
      "outputs": [
        {
          "name": "stdout",
          "output_type": "stream",
          "text": [
            "Procesando CSV con algoritmo mejorado...\n",
            "Leyendo archivo...\n",
            "Total de líneas: 58994\n",
            "Headers: 30 columnas\n",
            "Columnas: ['id_oficina', 'titulo', 'tipo_propiedad', 'precio_usd', 'precio_ars', 'estado', 'fecha_creacion', 'fecha_aprobacion', 'fecha_expiracion', 'fecha_venta', 'precio_venta_USD', 'precio_venta_ARS', 'comision_venta', 'direccion', 'barrio', 'ciudad', 'habitaciones', 'banios', 'living', 'metros_cubiertos', 'metros_totales', 'anio_construccion', 'id_oficina2', 'apt_credit', 'descripcion', 'fecha_historial_reciente', 'precio_historial_reciente_usd', 'historial_precios_completo', 'vistas', 'contactos']\n",
            "\n",
            "Analizando las primeras 3 líneas de datos...\n",
            "\n",
            "Línea 1:\n",
            "Raw: \"AR.42.82.193.197,\"\"Vta 3 ambientes, cochera, balcón, Patio, amenities\"\",\"\"Departamento Estándar\"\",\"\"249900\"\",\"\"349860000\"\",\"\"active\"\",\"\"2025-09-17 17...\n",
            "Campos parseados: 30\n",
            "  id_oficina: AR.42.82.193.197\n",
            "  titulo: Vta 3 ambientes, cochera, balcón, Patio, amenities\n",
            "  tipo_propiedad: Departamento Estándar\n",
            "  precio_usd: 249900\n",
            "  precio_ars: 349860000\n",
            "  estado: active\n",
            "  fecha_creacion: 2025-09-17 17:57:52\n",
            "  fecha_aprobacion: 2025-09-23 18:46:29\n",
            "\n",
            "Línea 2:\n",
            "Raw: \"AR.42.14.122.49,\"\"VENTA depto 4amb+depcia+cochera. balcón Flores.\"\",\"\"Departamento Estándar\"\",\"\"185000\"\",\"\"259000000\"\",\"\"active\"\",\"\"2025-09-09 20:41:...\n",
            "Campos parseados: 30\n",
            "  id_oficina: AR.42.14.122.49\n",
            "  titulo: VENTA depto 4amb+depcia+cochera. balcón Flores.\n",
            "  tipo_propiedad: Departamento Estándar\n",
            "  precio_usd: 185000\n",
            "  precio_ars: 259000000\n",
            "  estado: active\n",
            "  fecha_creacion: 2025-09-09 20:41:06\n",
            "  fecha_aprobacion: 2025-09-23 18:45:18\n",
            "\n",
            "Línea 3:\n",
            "Raw: \"AR.42.48.106.117,\"\"Venta departamento 2 amb pozo Nuñez Casa Besares\"\",\"\"Departamento Estándar\"\",\"\"182000\"\",\"\"254800000\"\",\"\"active\"\",\"\"2025-09-22 18:0...\n",
            "Campos parseados: 30\n",
            "  id_oficina: AR.42.48.106.117\n",
            "  titulo: Venta departamento 2 amb pozo Nuñez Casa Besares\n",
            "  tipo_propiedad: Departamento Estándar\n",
            "  precio_usd: 182000\n",
            "  precio_ars: 254800000\n",
            "  estado: active\n",
            "  fecha_creacion: 2025-09-22 18:06:05\n",
            "  fecha_aprobacion: 2025-09-23 18:15:05\n",
            "\n",
            "Procesando todas las líneas...\n",
            "Líneas procesadas: 58993\n",
            "Errores: 0\n",
            "\n",
            "✅ ÉXITO! Shape: (58993, 30)\n",
            "\n",
            "Primera fila verificada:\n",
            "id_oficina: AR.42.82.193.197\n",
            "titulo: Vta 3 ambientes, cochera, balcón, Patio, amenities\n",
            "tipo_propiedad: Departamento Estándar\n",
            "precio_usd: 249900\n",
            "precio_ars: 349860000\n",
            "estado: active\n",
            "fecha_creacion: 2025-09-17 17:57:52\n",
            "fecha_aprobacion: 2025-09-23 18:46:29\n",
            "fecha_expiracion: 2025-12-17\n",
            "fecha_venta: \n",
            "\n",
            "Verificaciones:\n",
            "ID oficina: AR.42.82.193.197\n",
            "Título completo: Vta 3 ambientes, cochera, balcón, Patio, amenities\n",
            "Tipo propiedad: Departamento Estándar\n",
            "Precio USD: 249900\n",
            "Estado: active\n",
            "\n",
            "Archivo guardado en: /tmp/propiedades_v2.csv\n"
          ]
        }
      ],
      "source": [
        "#ESTE ES EL CORRECTO\n",
        "import re\n",
        "\n",
        "def parse_csv_line_with_double_quotes(line):\n",
        "    \"\"\"\n",
        "    Parsea líneas con formato: \"campo1,\"\"campo con comas, y más texto\"\",\"\"otro campo\"\"...\"\n",
        "    \"\"\"\n",
        "    line = line.strip()\n",
        "\n",
        "    # Si no está entre comillas exteriores, usar split normal\n",
        "    if not (line.startswith('\"') and line.endswith('\"')):\n",
        "        return [field.strip().strip('\"') for field in line.split(',')]\n",
        "\n",
        "    # Quitar comillas exteriores\n",
        "    content = line[1:-1]\n",
        "\n",
        "    fields = []\n",
        "    current_field = \"\"\n",
        "    i = 0\n",
        "\n",
        "    while i < len(content):\n",
        "        if content[i:i+2] == '\"\"':\n",
        "            # Encontramos comillas dobles - inicio de un campo entrecomillado\n",
        "            i += 2  # Saltar las comillas dobles iniciales\n",
        "            field_content = \"\"\n",
        "\n",
        "            # Buscar el final del campo (comillas dobles seguidas de coma o final)\n",
        "            while i < len(content):\n",
        "                if content[i:i+2] == '\"\"':\n",
        "                    # Encontramos las comillas dobles de cierre\n",
        "                    if i + 2 >= len(content) or content[i + 2] == ',':\n",
        "                        # Es el final del campo\n",
        "                        fields.append(field_content)\n",
        "                        i += 2  # Saltar las comillas dobles\n",
        "                        if i < len(content) and content[i] == ',':\n",
        "                            i += 1  # Saltar la coma\n",
        "                        current_field = \"\"\n",
        "                        break\n",
        "                    else:\n",
        "                        # Son comillas literales dentro del campo\n",
        "                        field_content += '\"\"'\n",
        "                        i += 2\n",
        "                else:\n",
        "                    field_content += content[i]\n",
        "                    i += 1\n",
        "            else:\n",
        "                # Llegamos al final sin encontrar cierre\n",
        "                fields.append(field_content)\n",
        "                break\n",
        "        elif content[i] == ',':\n",
        "            # Coma separadora simple\n",
        "            if current_field:\n",
        "                fields.append(current_field)\n",
        "                current_field = \"\"\n",
        "            i += 1\n",
        "        else:\n",
        "            current_field += content[i]\n",
        "            i += 1\n",
        "\n",
        "    # Agregar el último campo si existe\n",
        "    if current_field:\n",
        "        fields.append(current_field)\n",
        "\n",
        "    # Limpiar campos: quitar espacios y comillas sueltas\n",
        "    cleaned_fields = []\n",
        "    for field in fields:\n",
        "        field = field.strip()\n",
        "        # Si el campo está entre comillas simples, quitarlas\n",
        "        if len(field) >= 2 and field.startswith('\"') and field.endswith('\"') and field.count('\"') == 2:\n",
        "            field = field[1:-1]\n",
        "        cleaned_fields.append(field)\n",
        "\n",
        "    return cleaned_fields\n",
        "\n",
        "def load_malformed_csv_v2(file_path):\n",
        "    \"\"\"\n",
        "    Versión mejorada para el formato específico del CSV\n",
        "    \"\"\"\n",
        "    print(\"Leyendo archivo...\")\n",
        "\n",
        "    with open(file_path, 'r', encoding='utf-8-sig') as f:\n",
        "        lines = f.readlines()\n",
        "\n",
        "    print(f\"Total de líneas: {len(lines)}\")\n",
        "\n",
        "    # Procesar header\n",
        "    header_line = lines[0].strip()\n",
        "    if header_line.startswith('\"') and header_line.endswith('\"'):\n",
        "        headers = parse_csv_line_with_double_quotes(header_line)\n",
        "    else:\n",
        "        headers = [h.strip().strip('\"') for h in header_line.split(',')]\n",
        "\n",
        "    print(f\"Headers: {len(headers)} columnas\")\n",
        "    print(f\"Columnas: {headers}\")\n",
        "\n",
        "    # Procesar primeras líneas para debugging\n",
        "    print(f\"\\nAnalizando las primeras 3 líneas de datos...\")\n",
        "    for i in range(1, min(4, len(lines))):\n",
        "        line = lines[i].strip()\n",
        "        if not line:\n",
        "            continue\n",
        "\n",
        "        print(f\"\\nLínea {i}:\")\n",
        "        print(f\"Raw: {line[:150]}...\")\n",
        "\n",
        "        try:\n",
        "            fields = parse_csv_line_with_double_quotes(line)\n",
        "            print(f\"Campos parseados: {len(fields)}\")\n",
        "\n",
        "            # Mostrar los primeros campos\n",
        "            for j, field in enumerate(fields[:8]):\n",
        "                header_name = headers[j] if j < len(headers) else f\"campo_{j}\"\n",
        "                print(f\"  {header_name}: {field[:50]}{'...' if len(field) > 50 else ''}\")\n",
        "\n",
        "        except Exception as e:\n",
        "            print(f\"Error: {e}\")\n",
        "\n",
        "    # Procesar todos los datos\n",
        "    print(f\"\\nProcesando todas las líneas...\")\n",
        "    all_data = []\n",
        "    errors = 0\n",
        "\n",
        "    for line_num in range(1, len(lines)):\n",
        "        line = lines[line_num].strip()\n",
        "        if not line:\n",
        "            continue\n",
        "\n",
        "        try:\n",
        "            fields = parse_csv_line_with_double_quotes(line)\n",
        "\n",
        "            # Ajustar número de campos\n",
        "            if len(fields) < len(headers):\n",
        "                fields.extend([''] * (len(headers) - len(fields)))\n",
        "            elif len(fields) > len(headers):\n",
        "                fields = fields[:len(headers)]\n",
        "\n",
        "            all_data.append(fields)\n",
        "\n",
        "        except Exception as e:\n",
        "            errors += 1\n",
        "            if errors <= 5:  # Mostrar solo los primeros 5 errores\n",
        "                print(f\"Error en línea {line_num + 1}: {e}\")\n",
        "\n",
        "    print(f\"Líneas procesadas: {len(all_data)}\")\n",
        "    print(f\"Errores: {errors}\")\n",
        "\n",
        "    if headers and all_data:\n",
        "        df = pd.DataFrame(all_data, columns=headers)\n",
        "        return df\n",
        "    else:\n",
        "        return None\n",
        "\n",
        "# Cargar el archivo\n",
        "file_path = 'propiedades_redremax_v4_prueba.csv'\n",
        "print(\"Procesando CSV con algoritmo mejorado...\")\n",
        "propiedades = load_malformed_csv_v2(file_path)\n",
        "\n",
        "if propiedades is not None:\n",
        "    print(f\"\\n✅ ÉXITO! Shape: {propiedades.shape}\")\n",
        "\n",
        "    print(f\"\\nPrimera fila verificada:\")\n",
        "    for col in propiedades.columns[:10]:\n",
        "        value = propiedades.iloc[0][col]\n",
        "        print(f\"{col}: {value}\")\n",
        "\n",
        "    # Verificaciones específicas\n",
        "    print(f\"\\nVerificaciones:\")\n",
        "    print(f\"ID oficina: {propiedades.iloc[0]['id_oficina']}\")\n",
        "    print(f\"Título completo: {propiedades.iloc[0]['titulo']}\")\n",
        "    print(f\"Tipo propiedad: {propiedades.iloc[0]['tipo_propiedad']}\")\n",
        "    print(f\"Precio USD: {propiedades.iloc[0]['precio_usd']}\")\n",
        "    print(f\"Estado: {propiedades.iloc[0]['estado']}\")\n",
        "\n",
        "    # Guardar resultado\n",
        "    propiedades.to_csv('/tmp/propiedades_v2.csv', index=False)\n",
        "    print(f\"\\nArchivo guardado en: /tmp/propiedades_v2.csv\")\n",
        "\n",
        "else:\n",
        "    print(\"❌ Falló el procesamiento\")\n",
        "\n",
        "propiedades = pd.read_csv('/tmp/propiedades_v2.csv')"
      ]
    },
    {
      "cell_type": "markdown",
      "metadata": {
        "id": "ZsFIfRt9u2E4"
      },
      "source": [
        "# 3. Análisis Exploratorio de Datos"
      ]
    },
    {
      "cell_type": "code",
      "execution_count": 18,
      "metadata": {
        "colab": {
          "base_uri": "https://localhost:8080/",
          "height": 204
        },
        "id": "yeZH-wqUvgXW",
        "outputId": "db9504aa-f39b-4216-e153-817a8d878d3a"
      },
      "outputs": [
        {
          "data": {
            "text/plain": [
              "pandas.core.frame.DataFrame"
            ]
          },
          "execution_count": 18,
          "metadata": {},
          "output_type": "execute_result"
        }
      ],
      "source": [
        "# Corroboramos que el tipo de dato de la variable \"bicis\" es un dataframe\n",
        "type(propiedades)"
      ]
    },
    {
      "cell_type": "code",
      "execution_count": 19,
      "metadata": {
        "colab": {
          "base_uri": "https://localhost:8080/",
          "height": 516
        },
        "id": "X7Ltzoy-vxau",
        "outputId": "241204c6-92c8-4a1c-89b0-f66a9ce3db4d"
      },
      "outputs": [
        {
          "data": {
            "text/html": [
              "<div>\n",
              "<style scoped>\n",
              "    .dataframe tbody tr th:only-of-type {\n",
              "        vertical-align: middle;\n",
              "    }\n",
              "\n",
              "    .dataframe tbody tr th {\n",
              "        vertical-align: top;\n",
              "    }\n",
              "\n",
              "    .dataframe thead th {\n",
              "        text-align: right;\n",
              "    }\n",
              "</style>\n",
              "<table border=\"1\" class=\"dataframe\">\n",
              "  <thead>\n",
              "    <tr style=\"text-align: right;\">\n",
              "      <th></th>\n",
              "      <th>id_oficina</th>\n",
              "      <th>titulo</th>\n",
              "      <th>tipo_propiedad</th>\n",
              "      <th>precio_usd</th>\n",
              "      <th>precio_ars</th>\n",
              "      <th>estado</th>\n",
              "      <th>fecha_creacion</th>\n",
              "      <th>fecha_aprobacion</th>\n",
              "      <th>fecha_expiracion</th>\n",
              "      <th>fecha_venta</th>\n",
              "      <th>...</th>\n",
              "      <th>fecha_historial_reciente</th>\n",
              "      <th>precio_historial_reciente_usd</th>\n",
              "      <th>historial_precios_completo</th>\n",
              "      <th>vistas</th>\n",
              "      <th>contactos</th>\n",
              "      <th>fecha_creacion_dt</th>\n",
              "      <th>fecha_venta_dt</th>\n",
              "      <th>fecha_expiracion_dt</th>\n",
              "      <th>diferencia_fechas_dt</th>\n",
              "      <th>contactos_por_intervalo_tiempo</th>\n",
              "    </tr>\n",
              "  </thead>\n",
              "  <tbody>\n",
              "    <tr>\n",
              "      <th>0</th>\n",
              "      <td>AR.42.82.193.197</td>\n",
              "      <td>Vta 3 ambientes, cochera, balcón, Patio, ameni...</td>\n",
              "      <td>Departamento Estándar</td>\n",
              "      <td>249900.0</td>\n",
              "      <td>349860000.0</td>\n",
              "      <td>active</td>\n",
              "      <td>2025-09-17 17:57:52</td>\n",
              "      <td>2025-09-23 18:46:29</td>\n",
              "      <td>2025-12-17</td>\n",
              "      <td>NaN</td>\n",
              "      <td>...</td>\n",
              "      <td>2025-09-23</td>\n",
              "      <td>249900.0</td>\n",
              "      <td>2025-09-23:249900</td>\n",
              "      <td>0.0</td>\n",
              "      <td>0.0</td>\n",
              "      <td>2025-09-17 17:57:52</td>\n",
              "      <td>NaT</td>\n",
              "      <td>2025-12-17</td>\n",
              "      <td>NaN</td>\n",
              "      <td>NaN</td>\n",
              "    </tr>\n",
              "    <tr>\n",
              "      <th>1</th>\n",
              "      <td>AR.42.14.122.49</td>\n",
              "      <td>VENTA depto 4amb+depcia+cochera. balcón Flores.</td>\n",
              "      <td>Departamento Estándar</td>\n",
              "      <td>185000.0</td>\n",
              "      <td>259000000.0</td>\n",
              "      <td>active</td>\n",
              "      <td>2025-09-09 20:41:06</td>\n",
              "      <td>2025-09-23 18:45:18</td>\n",
              "      <td>2025-10-22</td>\n",
              "      <td>NaN</td>\n",
              "      <td>...</td>\n",
              "      <td>2025-09-23</td>\n",
              "      <td>185000.0</td>\n",
              "      <td>2025-09-23:185000</td>\n",
              "      <td>0.0</td>\n",
              "      <td>1.0</td>\n",
              "      <td>2025-09-09 20:41:06</td>\n",
              "      <td>NaT</td>\n",
              "      <td>2025-10-22</td>\n",
              "      <td>NaN</td>\n",
              "      <td>NaN</td>\n",
              "    </tr>\n",
              "    <tr>\n",
              "      <th>2</th>\n",
              "      <td>AR.42.48.106.117</td>\n",
              "      <td>Venta departamento 2 amb pozo Nuñez Casa Besares</td>\n",
              "      <td>Departamento Estándar</td>\n",
              "      <td>182000.0</td>\n",
              "      <td>254800000.0</td>\n",
              "      <td>active</td>\n",
              "      <td>2025-09-22 18:06:05</td>\n",
              "      <td>2025-09-23 18:15:05</td>\n",
              "      <td>2025-12-22</td>\n",
              "      <td>NaN</td>\n",
              "      <td>...</td>\n",
              "      <td>2025-09-23</td>\n",
              "      <td>182000.0</td>\n",
              "      <td>2025-09-23:182000</td>\n",
              "      <td>0.0</td>\n",
              "      <td>0.0</td>\n",
              "      <td>2025-09-22 18:06:05</td>\n",
              "      <td>NaT</td>\n",
              "      <td>2025-12-22</td>\n",
              "      <td>NaN</td>\n",
              "      <td>NaN</td>\n",
              "    </tr>\n",
              "    <tr>\n",
              "      <th>3</th>\n",
              "      <td>AR.42.48.106.116</td>\n",
              "      <td>Venta Monoambiente en pozo Paseo Chacabuco</td>\n",
              "      <td>Departamento Monoambiente</td>\n",
              "      <td>82500.0</td>\n",
              "      <td>115500000.0</td>\n",
              "      <td>active</td>\n",
              "      <td>2025-09-22 16:37:33</td>\n",
              "      <td>2025-09-23 18:15:00</td>\n",
              "      <td>2025-12-14</td>\n",
              "      <td>NaN</td>\n",
              "      <td>...</td>\n",
              "      <td>2025-09-23</td>\n",
              "      <td>82500.0</td>\n",
              "      <td>2025-09-23:82500</td>\n",
              "      <td>0.0</td>\n",
              "      <td>0.0</td>\n",
              "      <td>2025-09-22 16:37:33</td>\n",
              "      <td>NaT</td>\n",
              "      <td>2025-12-14</td>\n",
              "      <td>NaN</td>\n",
              "      <td>NaN</td>\n",
              "    </tr>\n",
              "    <tr>\n",
              "      <th>4</th>\n",
              "      <td>AR.42.94.155.143</td>\n",
              "      <td>VENTA MONOAMBIENTE VILLA CRESPO</td>\n",
              "      <td>Departamento Estándar</td>\n",
              "      <td>48600.0</td>\n",
              "      <td>68040000.0</td>\n",
              "      <td>active</td>\n",
              "      <td>2025-09-15 15:49:08</td>\n",
              "      <td>2025-09-23 18:14:01</td>\n",
              "      <td>2026-03-09</td>\n",
              "      <td>NaN</td>\n",
              "      <td>...</td>\n",
              "      <td>2025-09-23</td>\n",
              "      <td>48600.0</td>\n",
              "      <td>2025-09-23:48600</td>\n",
              "      <td>0.0</td>\n",
              "      <td>0.0</td>\n",
              "      <td>2025-09-15 15:49:08</td>\n",
              "      <td>NaT</td>\n",
              "      <td>2026-03-09</td>\n",
              "      <td>NaN</td>\n",
              "      <td>NaN</td>\n",
              "    </tr>\n",
              "  </tbody>\n",
              "</table>\n",
              "<p>5 rows × 35 columns</p>\n",
              "</div>"
            ],
            "text/plain": [
              "         id_oficina                                             titulo  \\\n",
              "0  AR.42.82.193.197  Vta 3 ambientes, cochera, balcón, Patio, ameni...   \n",
              "1   AR.42.14.122.49    VENTA depto 4amb+depcia+cochera. balcón Flores.   \n",
              "2  AR.42.48.106.117   Venta departamento 2 amb pozo Nuñez Casa Besares   \n",
              "3  AR.42.48.106.116         Venta Monoambiente en pozo Paseo Chacabuco   \n",
              "4  AR.42.94.155.143                    VENTA MONOAMBIENTE VILLA CRESPO   \n",
              "\n",
              "              tipo_propiedad  precio_usd   precio_ars  estado  \\\n",
              "0      Departamento Estándar    249900.0  349860000.0  active   \n",
              "1      Departamento Estándar    185000.0  259000000.0  active   \n",
              "2      Departamento Estándar    182000.0  254800000.0  active   \n",
              "3  Departamento Monoambiente     82500.0  115500000.0  active   \n",
              "4      Departamento Estándar     48600.0   68040000.0  active   \n",
              "\n",
              "        fecha_creacion     fecha_aprobacion fecha_expiracion fecha_venta  ...  \\\n",
              "0  2025-09-17 17:57:52  2025-09-23 18:46:29       2025-12-17         NaN  ...   \n",
              "1  2025-09-09 20:41:06  2025-09-23 18:45:18       2025-10-22         NaN  ...   \n",
              "2  2025-09-22 18:06:05  2025-09-23 18:15:05       2025-12-22         NaN  ...   \n",
              "3  2025-09-22 16:37:33  2025-09-23 18:15:00       2025-12-14         NaN  ...   \n",
              "4  2025-09-15 15:49:08  2025-09-23 18:14:01       2026-03-09         NaN  ...   \n",
              "\n",
              "   fecha_historial_reciente  precio_historial_reciente_usd  \\\n",
              "0                2025-09-23                       249900.0   \n",
              "1                2025-09-23                       185000.0   \n",
              "2                2025-09-23                       182000.0   \n",
              "3                2025-09-23                        82500.0   \n",
              "4                2025-09-23                        48600.0   \n",
              "\n",
              "   historial_precios_completo vistas contactos   fecha_creacion_dt  \\\n",
              "0           2025-09-23:249900    0.0       0.0 2025-09-17 17:57:52   \n",
              "1           2025-09-23:185000    0.0       1.0 2025-09-09 20:41:06   \n",
              "2           2025-09-23:182000    0.0       0.0 2025-09-22 18:06:05   \n",
              "3            2025-09-23:82500    0.0       0.0 2025-09-22 16:37:33   \n",
              "4            2025-09-23:48600    0.0       0.0 2025-09-15 15:49:08   \n",
              "\n",
              "   fecha_venta_dt  fecha_expiracion_dt  diferencia_fechas_dt  \\\n",
              "0             NaT           2025-12-17                   NaN   \n",
              "1             NaT           2025-10-22                   NaN   \n",
              "2             NaT           2025-12-22                   NaN   \n",
              "3             NaT           2025-12-14                   NaN   \n",
              "4             NaT           2026-03-09                   NaN   \n",
              "\n",
              "   contactos_por_intervalo_tiempo  \n",
              "0                             NaN  \n",
              "1                             NaN  \n",
              "2                             NaN  \n",
              "3                             NaN  \n",
              "4                             NaN  \n",
              "\n",
              "[5 rows x 35 columns]"
            ]
          },
          "execution_count": 19,
          "metadata": {},
          "output_type": "execute_result"
        }
      ],
      "source": [
        "# Primeras lineas de nuestro dataframe\n",
        "propiedades.head()"
      ]
    },
    {
      "cell_type": "code",
      "execution_count": 20,
      "metadata": {
        "colab": {
          "base_uri": "https://localhost:8080/"
        },
        "id": "M3Wx6xmkwDrJ",
        "outputId": "a06ae50a-2f06-45ff-8ba2-fc5387213f62"
      },
      "outputs": [
        {
          "data": {
            "text/plain": [
              "Index(['id_oficina', 'titulo', 'tipo_propiedad', 'precio_usd', 'precio_ars',\n",
              "       'estado', 'fecha_creacion', 'fecha_aprobacion', 'fecha_expiracion',\n",
              "       'fecha_venta', 'precio_venta_USD', 'precio_venta_ARS', 'comision_venta',\n",
              "       'direccion', 'barrio', 'ciudad', 'habitaciones', 'banios', 'living',\n",
              "       'metros_cubiertos', 'metros_totales', 'anio_construccion',\n",
              "       'id_oficina2', 'apt_credit', 'descripcion', 'fecha_historial_reciente',\n",
              "       'precio_historial_reciente_usd', 'historial_precios_completo', 'vistas',\n",
              "       'contactos', 'fecha_creacion_dt', 'fecha_venta_dt',\n",
              "       'fecha_expiracion_dt', 'diferencia_fechas_dt',\n",
              "       'contactos_por_intervalo_tiempo'],\n",
              "      dtype='object')"
            ]
          },
          "execution_count": 20,
          "metadata": {},
          "output_type": "execute_result"
        }
      ],
      "source": [
        "# Si solo quiero los nombres de las columnas en formato lista\n",
        "propiedades.columns"
      ]
    },
    {
      "cell_type": "code",
      "execution_count": 21,
      "metadata": {
        "colab": {
          "base_uri": "https://localhost:8080/"
        },
        "id": "mHXQW1FFwL_Z",
        "outputId": "99698bdf-0bd8-4180-88ac-4015ab956874"
      },
      "outputs": [
        {
          "data": {
            "text/plain": [
              "(58993, 35)"
            ]
          },
          "execution_count": 21,
          "metadata": {},
          "output_type": "execute_result"
        }
      ],
      "source": [
        "# Dimensionalidad del dataframe\n",
        "propiedades.shape"
      ]
    },
    {
      "cell_type": "code",
      "execution_count": 22,
      "metadata": {
        "colab": {
          "base_uri": "https://localhost:8080/",
          "height": 1000
        },
        "id": "DVv0WcpZwhRb",
        "outputId": "c88cdf0e-9e9b-4cc9-a89b-af71403705f0"
      },
      "outputs": [
        {
          "data": {
            "text/plain": [
              "id_oficina                                object\n",
              "titulo                                    object\n",
              "tipo_propiedad                            object\n",
              "precio_usd                               float64\n",
              "precio_ars                               float64\n",
              "estado                                    object\n",
              "fecha_creacion                            object\n",
              "fecha_aprobacion                          object\n",
              "fecha_expiracion                          object\n",
              "fecha_venta                               object\n",
              "precio_venta_USD                         float64\n",
              "precio_venta_ARS                         float64\n",
              "comision_venta                           float64\n",
              "direccion                                 object\n",
              "barrio                                    object\n",
              "ciudad                                    object\n",
              "habitaciones                             float64\n",
              "banios                                   float64\n",
              "living                                   float64\n",
              "metros_cubiertos                         float64\n",
              "metros_totales                           float64\n",
              "anio_construccion                        float64\n",
              "id_oficina2                               object\n",
              "apt_credit                                object\n",
              "descripcion                               object\n",
              "fecha_historial_reciente                  object\n",
              "precio_historial_reciente_usd            float64\n",
              "historial_precios_completo                object\n",
              "vistas                                   float64\n",
              "contactos                                float64\n",
              "fecha_creacion_dt                 datetime64[ns]\n",
              "fecha_venta_dt                    datetime64[ns]\n",
              "fecha_expiracion_dt               datetime64[ns]\n",
              "diferencia_fechas_dt                     float64\n",
              "contactos_por_intervalo_tiempo           float64\n",
              "dtype: object"
            ]
          },
          "execution_count": 22,
          "metadata": {},
          "output_type": "execute_result"
        }
      ],
      "source": [
        "# El tipo de dato de cada una de las columnas\n",
        "# Acá veo que 'duracion_recorrido', 'fecha_origen_recorrido' y 'fecha_destino_recorrido'\n",
        "# son de tipo object (texto) y no está bueno eso\n",
        "propiedades.dtypes"
      ]
    },
    {
      "cell_type": "markdown",
      "metadata": {
        "id": "C-rxg7E4BKWt"
      },
      "source": []
    },
    {
      "cell_type": "code",
      "execution_count": 23,
      "metadata": {
        "colab": {
          "base_uri": "https://localhost:8080/",
          "height": 547
        },
        "collapsed": true,
        "id": "bNNOPeYY7CO2",
        "outputId": "42a3dc56-b4ae-4ec8-c9c1-f4ca899ffdf2"
      },
      "outputs": [
        {
          "name": "stdout",
          "output_type": "stream",
          "text": [
            "Propiedades con fecha de venta y contactos: 10949\n"
          ]
        }
      ],
      "source": [
        "# FILTRO: Propiedades con fecha de venta y contactos\n",
        "# Nota: El filtro adicional por diferencia_fechas_dt se hace DESPUÉS de crear esas columnas (celda 16)\n",
        "\n",
        "propiedades_con_venta = propiedades[\n",
        "    (propiedades['fecha_venta'].notna()) & (propiedades['contactos'] > 0)\n",
        "]\n",
        "\n",
        "print(f\"Propiedades con fecha de venta y contactos: {propiedades_con_venta.shape[0]}\")"
      ]
    },
    {
      "cell_type": "markdown",
      "metadata": {
        "id": "vkd40U7f1Mwc"
      },
      "source": [
        "# 4. Preparación de Datos\n",
        "\n",
        "Si debo modificar una columna, es conveniente crear una nueva y no pisar la original. Lo mismo para los dataframes"
      ]
    },
    {
      "cell_type": "code",
      "execution_count": 24,
      "metadata": {
        "id": "iC61PMiOyFUd"
      },
      "outputs": [],
      "source": [
        "# Creo tres nuevas columnas con las fechas con el tipo de dato correcto. La vista propiedades_con_venta tmb agrega las columnas.\n",
        "propiedades[\"fecha_creacion_dt\"] = pd.to_datetime(propiedades[\"fecha_creacion\"], format=\"mixed\")\n",
        "propiedades[\"fecha_venta_dt\"] = pd.to_datetime(propiedades[\"fecha_venta\"], format=\"mixed\")\n",
        "propiedades[\"fecha_expiracion_dt\"] = pd.to_datetime(propiedades[\"fecha_expiracion\"], format=\"mixed\")\n",
        "propiedades[\"diferencia_fechas_dt\"] = ((propiedades[\"fecha_venta_dt\"] - propiedades[\"fecha_creacion_dt\"]).dt.total_seconds() / 60)\n",
        "propiedades[\"contactos_por_intervalo_tiempo\"] = (propiedades[\"diferencia_fechas_dt\"] / propiedades[\"contactos\"])"
      ]
    },
    {
      "cell_type": "markdown",
      "metadata": {
        "id": "c2VAy8fpPfTJ"
      },
      "source": []
    },
    {
      "cell_type": "code",
      "execution_count": 25,
      "metadata": {
        "id": "K-kXp1Ycy7d0"
      },
      "outputs": [
        {
          "name": "stdout",
          "output_type": "stream",
          "text": [
            "Propiedades con fecha de venta, contactos Y diferencia > 0: 10940\n"
          ]
        },
        {
          "data": {
            "text/html": [
              "<div>\n",
              "<style scoped>\n",
              "    .dataframe tbody tr th:only-of-type {\n",
              "        vertical-align: middle;\n",
              "    }\n",
              "\n",
              "    .dataframe tbody tr th {\n",
              "        vertical-align: top;\n",
              "    }\n",
              "\n",
              "    .dataframe thead th {\n",
              "        text-align: right;\n",
              "    }\n",
              "</style>\n",
              "<table border=\"1\" class=\"dataframe\">\n",
              "  <thead>\n",
              "    <tr style=\"text-align: right;\">\n",
              "      <th></th>\n",
              "      <th>id_oficina</th>\n",
              "      <th>titulo</th>\n",
              "      <th>tipo_propiedad</th>\n",
              "      <th>precio_usd</th>\n",
              "      <th>precio_ars</th>\n",
              "      <th>estado</th>\n",
              "      <th>fecha_creacion</th>\n",
              "      <th>fecha_aprobacion</th>\n",
              "      <th>fecha_expiracion</th>\n",
              "      <th>fecha_venta</th>\n",
              "      <th>...</th>\n",
              "      <th>fecha_historial_reciente</th>\n",
              "      <th>precio_historial_reciente_usd</th>\n",
              "      <th>historial_precios_completo</th>\n",
              "      <th>vistas</th>\n",
              "      <th>contactos</th>\n",
              "      <th>fecha_creacion_dt</th>\n",
              "      <th>fecha_venta_dt</th>\n",
              "      <th>fecha_expiracion_dt</th>\n",
              "      <th>diferencia_fechas_dt</th>\n",
              "      <th>contactos_por_intervalo_tiempo</th>\n",
              "    </tr>\n",
              "  </thead>\n",
              "  <tbody>\n",
              "    <tr>\n",
              "      <th>2215</th>\n",
              "      <td>AR.42.31.444.22</td>\n",
              "      <td>VENTA DEPARTAMENTO 2 AMBIENTES EN VILLA DEVOTO</td>\n",
              "      <td>Departamento Estándar</td>\n",
              "      <td>130000.0</td>\n",
              "      <td>176150000.0</td>\n",
              "      <td>completed</td>\n",
              "      <td>2025-08-27 17:26:38</td>\n",
              "      <td>2025-08-28 10:43:33</td>\n",
              "      <td>2025-11-27</td>\n",
              "      <td>2025-09-22</td>\n",
              "      <td>...</td>\n",
              "      <td>2025-08-28</td>\n",
              "      <td>130000.0</td>\n",
              "      <td>2025-08-28:130000</td>\n",
              "      <td>415.0</td>\n",
              "      <td>3.0</td>\n",
              "      <td>2025-08-27 17:26:38</td>\n",
              "      <td>2025-09-22</td>\n",
              "      <td>2025-11-27</td>\n",
              "      <td>36393.366667</td>\n",
              "      <td>12131.122222</td>\n",
              "    </tr>\n",
              "    <tr>\n",
              "      <th>2696</th>\n",
              "      <td>AR.42.47.189.186</td>\n",
              "      <td>Departamento Venta 2 ambientes Villa Crespo</td>\n",
              "      <td>Departamento Estándar</td>\n",
              "      <td>65000.0</td>\n",
              "      <td>86450000.0</td>\n",
              "      <td>completed</td>\n",
              "      <td>2025-08-21 14:27:12</td>\n",
              "      <td>2025-08-21 18:44:16</td>\n",
              "      <td>2025-12-24</td>\n",
              "      <td>2025-09-04</td>\n",
              "      <td>...</td>\n",
              "      <td>2025-08-21</td>\n",
              "      <td>65000.0</td>\n",
              "      <td>2025-08-21:65000</td>\n",
              "      <td>310.0</td>\n",
              "      <td>2.0</td>\n",
              "      <td>2025-08-21 14:27:12</td>\n",
              "      <td>2025-09-04</td>\n",
              "      <td>2025-12-24</td>\n",
              "      <td>19292.800000</td>\n",
              "      <td>9646.400000</td>\n",
              "    </tr>\n",
              "    <tr>\n",
              "      <th>2784</th>\n",
              "      <td>AR.42.173.123.59</td>\n",
              "      <td>Venta Monoambiente con balcón y vista abierta!</td>\n",
              "      <td>Departamento Monoambiente</td>\n",
              "      <td>51000.0</td>\n",
              "      <td>67830000.0</td>\n",
              "      <td>completed</td>\n",
              "      <td>2025-08-18 11:00:29</td>\n",
              "      <td>2025-08-21 10:53:26</td>\n",
              "      <td>2025-11-18</td>\n",
              "      <td>2025-09-12</td>\n",
              "      <td>...</td>\n",
              "      <td>2025-08-21</td>\n",
              "      <td>51000.0</td>\n",
              "      <td>2025-08-21:51000</td>\n",
              "      <td>684.0</td>\n",
              "      <td>6.0</td>\n",
              "      <td>2025-08-18 11:00:29</td>\n",
              "      <td>2025-09-12</td>\n",
              "      <td>2025-11-18</td>\n",
              "      <td>35339.516667</td>\n",
              "      <td>5889.919444</td>\n",
              "    </tr>\n",
              "    <tr>\n",
              "      <th>2809</th>\n",
              "      <td>AR.42.6.378.356</td>\n",
              "      <td>Venta 2 Ambientes con Balcón en Belgrano frente</td>\n",
              "      <td>Departamento Estándar</td>\n",
              "      <td>125000.0</td>\n",
              "      <td>165625000.0</td>\n",
              "      <td>completed</td>\n",
              "      <td>2025-08-20 17:28:10</td>\n",
              "      <td>2025-08-20 17:50:18</td>\n",
              "      <td>2025-11-16</td>\n",
              "      <td>2025-09-23</td>\n",
              "      <td>...</td>\n",
              "      <td>2025-08-20</td>\n",
              "      <td>125000.0</td>\n",
              "      <td>2025-08-20:125000</td>\n",
              "      <td>475.0</td>\n",
              "      <td>2.0</td>\n",
              "      <td>2025-08-20 17:28:10</td>\n",
              "      <td>2025-09-23</td>\n",
              "      <td>2025-11-16</td>\n",
              "      <td>47911.833333</td>\n",
              "      <td>23955.916667</td>\n",
              "    </tr>\n",
              "    <tr>\n",
              "      <th>2871</th>\n",
              "      <td>AR.42.149.64.77</td>\n",
              "      <td>Depto 2 ambientes Almagro APTO CREDITO</td>\n",
              "      <td>Departamento Estándar</td>\n",
              "      <td>64000.0</td>\n",
              "      <td>85120000.0</td>\n",
              "      <td>completed</td>\n",
              "      <td>2025-08-19 13:48:53</td>\n",
              "      <td>2025-08-20 12:06:44</td>\n",
              "      <td>2025-11-21 00:00:00</td>\n",
              "      <td>2025-09-10 00:00:00</td>\n",
              "      <td>...</td>\n",
              "      <td>2025-08-20 00:00:00</td>\n",
              "      <td>64000.0</td>\n",
              "      <td>2025-08-20 00:00:00:64000</td>\n",
              "      <td>591.0</td>\n",
              "      <td>7.0</td>\n",
              "      <td>2025-08-19 13:48:53</td>\n",
              "      <td>2025-09-10</td>\n",
              "      <td>2025-11-21</td>\n",
              "      <td>30851.116667</td>\n",
              "      <td>4407.302381</td>\n",
              "    </tr>\n",
              "  </tbody>\n",
              "</table>\n",
              "<p>5 rows × 35 columns</p>\n",
              "</div>"
            ],
            "text/plain": [
              "            id_oficina                                           titulo  \\\n",
              "2215   AR.42.31.444.22   VENTA DEPARTAMENTO 2 AMBIENTES EN VILLA DEVOTO   \n",
              "2696  AR.42.47.189.186      Departamento Venta 2 ambientes Villa Crespo   \n",
              "2784  AR.42.173.123.59   Venta Monoambiente con balcón y vista abierta!   \n",
              "2809   AR.42.6.378.356  Venta 2 Ambientes con Balcón en Belgrano frente   \n",
              "2871   AR.42.149.64.77           Depto 2 ambientes Almagro APTO CREDITO   \n",
              "\n",
              "                 tipo_propiedad  precio_usd   precio_ars     estado  \\\n",
              "2215      Departamento Estándar    130000.0  176150000.0  completed   \n",
              "2696      Departamento Estándar     65000.0   86450000.0  completed   \n",
              "2784  Departamento Monoambiente     51000.0   67830000.0  completed   \n",
              "2809      Departamento Estándar    125000.0  165625000.0  completed   \n",
              "2871      Departamento Estándar     64000.0   85120000.0  completed   \n",
              "\n",
              "           fecha_creacion     fecha_aprobacion     fecha_expiracion  \\\n",
              "2215  2025-08-27 17:26:38  2025-08-28 10:43:33           2025-11-27   \n",
              "2696  2025-08-21 14:27:12  2025-08-21 18:44:16           2025-12-24   \n",
              "2784  2025-08-18 11:00:29  2025-08-21 10:53:26           2025-11-18   \n",
              "2809  2025-08-20 17:28:10  2025-08-20 17:50:18           2025-11-16   \n",
              "2871  2025-08-19 13:48:53  2025-08-20 12:06:44  2025-11-21 00:00:00   \n",
              "\n",
              "              fecha_venta  ...  fecha_historial_reciente  \\\n",
              "2215           2025-09-22  ...                2025-08-28   \n",
              "2696           2025-09-04  ...                2025-08-21   \n",
              "2784           2025-09-12  ...                2025-08-21   \n",
              "2809           2025-09-23  ...                2025-08-20   \n",
              "2871  2025-09-10 00:00:00  ...       2025-08-20 00:00:00   \n",
              "\n",
              "      precio_historial_reciente_usd  historial_precios_completo vistas  \\\n",
              "2215                       130000.0           2025-08-28:130000  415.0   \n",
              "2696                        65000.0            2025-08-21:65000  310.0   \n",
              "2784                        51000.0            2025-08-21:51000  684.0   \n",
              "2809                       125000.0           2025-08-20:125000  475.0   \n",
              "2871                        64000.0   2025-08-20 00:00:00:64000  591.0   \n",
              "\n",
              "     contactos   fecha_creacion_dt  fecha_venta_dt  fecha_expiracion_dt  \\\n",
              "2215       3.0 2025-08-27 17:26:38      2025-09-22           2025-11-27   \n",
              "2696       2.0 2025-08-21 14:27:12      2025-09-04           2025-12-24   \n",
              "2784       6.0 2025-08-18 11:00:29      2025-09-12           2025-11-18   \n",
              "2809       2.0 2025-08-20 17:28:10      2025-09-23           2025-11-16   \n",
              "2871       7.0 2025-08-19 13:48:53      2025-09-10           2025-11-21   \n",
              "\n",
              "      diferencia_fechas_dt  contactos_por_intervalo_tiempo  \n",
              "2215          36393.366667                    12131.122222  \n",
              "2696          19292.800000                     9646.400000  \n",
              "2784          35339.516667                     5889.919444  \n",
              "2809          47911.833333                    23955.916667  \n",
              "2871          30851.116667                     4407.302381  \n",
              "\n",
              "[5 rows x 35 columns]"
            ]
          },
          "execution_count": 25,
          "metadata": {},
          "output_type": "execute_result"
        }
      ],
      "source": [
        "# filtro por diferencia_fechas_dt > 0\n",
        "# Ya tenemos las columnas, así que podemos filtrar\n",
        "\n",
        "propiedades_con_venta = propiedades_con_venta[propiedades_con_venta['diferencia_fechas_dt'] > 0]\n",
        "\n",
        "print(f\"Propiedades con fecha de venta, contactos Y diferencia > 0: {propiedades_con_venta.shape[0]}\")\n",
        "propiedades_con_venta.head()"
      ]
    },
    {
      "cell_type": "markdown",
      "metadata": {},
      "source": [
        "## 📊 Análisis de Tiempos entre Visitas/Contactos\n",
        "\n",
        "En esta sección analizaremos el tiempo promedio (en minutos) entre cada visita/contacto a una propiedad.\n",
        "\n",
        "**Variable clave:** `contactos_por_intervalo_tiempo` = tiempo_total_hasta_venta / número_de_contactos\n"
      ]
    },
    {
      "cell_type": "code",
      "execution_count": 26,
      "metadata": {
        "id": "AUAJNdS-A8NY"
      },
      "outputs": [
        {
          "data": {
            "text/plain": [
              "count     10940.000000\n",
              "mean      25066.088213\n",
              "std       38910.574949\n",
              "min         189.977778\n",
              "25%        6906.029779\n",
              "50%       13183.856771\n",
              "75%       27384.027917\n",
              "max      928103.816667\n",
              "Name: contactos_por_intervalo_tiempo, dtype: float64"
            ]
          },
          "execution_count": 26,
          "metadata": {},
          "output_type": "execute_result"
        }
      ],
      "source": [
        "# Estadísticos de contactos por intervalo de tiempo para propiedades vendidas\n",
        "propiedades_con_venta['contactos_por_intervalo_tiempo'].describe()"
      ]
    },
    {
      "cell_type": "code",
      "execution_count": 64,
      "metadata": {},
      "outputs": [
        {
          "name": "stdout",
          "output_type": "stream",
          "text": [
            "Total propiedades vendidas con datos válidos: 8375\n",
            "\n",
            "Estadísticas de tiempo entre contactos (en minutos):\n",
            "count     8375.000000\n",
            "mean     11366.676926\n",
            "std       6951.495953\n",
            "min        189.977778\n",
            "25%       5724.782625\n",
            "50%       9933.779630\n",
            "75%      15846.616117\n",
            "max      28710.911905\n",
            "Name: contactos_por_intervalo_tiempo, dtype: float64\n"
          ]
        }
      ],
      "source": [
        "# filtramos las propiedades vendidas con datos válidos\n",
        "# Nos quedamos con las que tienen un intervalo razonable (menor a 60 días en minutos)\n",
        "propiedades_con_venta_dentro_60_dias = propiedades_con_venta[\n",
        "    propiedades_con_venta['contactos_por_intervalo_tiempo'] < (60 * 24 * 20)  # 60 días en minutos\n",
        "]\n",
        "\n",
        "print(f\"Total propiedades vendidas con datos válidos: {propiedades_con_venta_dentro_60_dias.shape[0]}\")\n",
        "print(f\"\\nEstadísticas de tiempo entre contactos (en minutos):\")\n",
        "print(propiedades_con_venta_dentro_60_dias['contactos_por_intervalo_tiempo'].describe())\n"
      ]
    },
    {
      "cell_type": "code",
      "execution_count": 65,
      "metadata": {},
      "outputs": [
        {
          "data": {
            "text/plain": [
              "<Figure size 1200x600 with 0 Axes>"
            ]
          },
          "metadata": {},
          "output_type": "display_data"
        },
        {
          "data": {
            "image/png": "[encoded data removed]",
            "text/plain": [
              "<Figure size 640x480 with 1 Axes>"
            ]
          },
          "metadata": {},
          "output_type": "display_data"
        },
        {
          "name": "stdout",
          "output_type": "stream",
          "text": [
            "\n",
            "📊 Interpretación:\n",
            "  - Media: 11366.68 minutos (189.44 horas, 7.89 días)\n",
            "  - Mediana: 9933.78 minutos (165.56 horas, 6.90 días)\n"
          ]
        }
      ],
      "source": [
        "# 📊 HISTOGRAMA: Distribución de tiempos entre visitas/contactos\n",
        "columna = \"contactos_por_intervalo_tiempo\"\n",
        "\n",
        "# Crear figura más grande\n",
        "plt.figure(figsize=(12, 6))\n",
        "\n",
        "# Histograma\n",
        "propiedades_con_venta_dentro_60_dias.hist(columna, bins=100, edgecolor='black', alpha=0.7)\n",
        "\n",
        "# Calcular y mostrar la media\n",
        "media = propiedades_con_venta_dentro_60_dias[columna].mean()\n",
        "mediana = propiedades_con_venta_dentro_60_dias[columna].median()\n",
        "\n",
        "# Agregar líneas verticales\n",
        "plt.axvline(media, color=\"red\", linestyle=\"--\", linewidth=2, label=f\"Media: {media:.2f} min\")\n",
        "plt.axvline(mediana, color=\"green\", linestyle=\"--\", linewidth=2, label=f\"Mediana: {mediana:.2f} min\")\n",
        "\n",
        "# Etiquetas y título\n",
        "plt.xlabel(\"Tiempo entre contactos/visitas (minutos)\", fontsize=12)\n",
        "plt.ylabel(\"Frecuencia\", fontsize=12)\n",
        "plt.title(\"Distribución del tiempo entre visitas a propiedades\", fontsize=14, fontweight='bold')\n",
        "plt.legend()\n",
        "plt.grid(axis='y', alpha=0.3)\n",
        "plt.tight_layout()\n",
        "plt.show()\n",
        "\n",
        "print(f\"\\n📊 Interpretación:\")\n",
        "print(f\"  - Media: {media:.2f} minutos ({media/60:.2f} horas, {media/1440:.2f} días)\")\n",
        "print(f\"  - Mediana: {mediana:.2f} minutos ({mediana/60:.2f} horas, {mediana/1440:.2f} días)\")\n"
      ]
    },
    {
      "cell_type": "code",
      "execution_count": 66,
      "metadata": {
        "id": "I6ELIS3NJ23w"
      },
      "outputs": [
        {
          "data": {
            "image/png": "[encoded data removed]",
            "text/plain": [
              "<Figure size 1200x400 with 1 Axes>"
            ]
          },
          "metadata": {},
          "output_type": "display_data"
        }
      ],
      "source": [
        "# Boxplot para identificar outliers\n",
        "plt.figure(figsize=(12, 4))\n",
        "propiedades_con_venta_dentro_60_dias['contactos_por_intervalo_tiempo'].plot(kind='box', vert=False)\n",
        "plt.xlabel(\"Tiempo entre contactos (minutos)\", fontsize=12)\n",
        "plt.title(\"Boxplot: Identificación de valores atípicos\", fontsize=14)\n",
        "plt.tight_layout()\n",
        "plt.show()\n"
      ]
    },
    {
      "cell_type": "code",
      "execution_count": 67,
      "metadata": {
        "id": "v5ePzKEWRVW9"
      },
      "outputs": [
        {
          "name": "stdout",
          "output_type": "stream",
          "text": [
            "📈 Estadísticas descriptivas de tiempo entre contactos:\n",
            "\n",
            "count     8375.000000\n",
            "mean     11366.676926\n",
            "std       6951.495953\n",
            "min        189.977778\n",
            "25%       5724.782625\n",
            "50%       9933.779630\n",
            "75%      15846.616117\n",
            "max      28710.911905\n",
            "Name: contactos_por_intervalo_tiempo, dtype: float64\n",
            "\n",
            "📊 Información adicional:\n",
            "  - Total de registros: 8375\n",
            "  - Valores nulos: 0\n",
            "  - Rango: 28520.93 minutos\n"
          ]
        }
      ],
      "source": [
        "# Resumen estadístico completo\n",
        "print(\"📈 Estadísticas descriptivas de tiempo entre contactos:\\n\")\n",
        "print(propiedades_con_venta_dentro_60_dias['contactos_por_intervalo_tiempo'].describe())\n",
        "\n",
        "# Información adicional\n",
        "print(f\"\\n📊 Información adicional:\")\n",
        "print(f\"  - Total de registros: {len(propiedades_con_venta_dentro_60_dias)}\")\n",
        "print(f\"  - Valores nulos: {propiedades_con_venta_dentro_60_dias['contactos_por_intervalo_tiempo'].isna().sum()}\")\n",
        "print(f\"  - Rango: {propiedades_con_venta_dentro_60_dias['contactos_por_intervalo_tiempo'].max() - propiedades_con_venta_dentro_60_dias['contactos_por_intervalo_tiempo'].min():.2f} minutos\")"
      ]
    },
    {
      "cell_type": "code",
      "execution_count": 68,
      "metadata": {
        "id": "sUQzVSSSE9lm"
      },
      "outputs": [
        {
          "name": "stdout",
          "output_type": "stream",
          "text": [
            "2021-03-19 10:49:49\n"
          ]
        }
      ],
      "source": [
        "# Tiempo minimo del dataset\n",
        "fecha_minima = propiedades_con_venta_dentro_60_dias[\"fecha_creacion_dt\"].min()\n",
        "print(fecha_minima)"
      ]
    },
    {
      "cell_type": "code",
      "execution_count": 69,
      "metadata": {
        "id": "ZOOkxY_7GNnu"
      },
      "outputs": [
        {
          "name": "stdout",
          "output_type": "stream",
          "text": [
            "2025-08-27 17:26:38\n"
          ]
        }
      ],
      "source": [
        "# Timepo maximo del dataset\n",
        "fecha_maxima = propiedades_con_venta_dentro_60_dias[\"fecha_creacion_dt\"].max()\n",
        "print(fecha_maxima)"
      ]
    },
    {
      "cell_type": "code",
      "execution_count": 70,
      "metadata": {
        "id": "6p4Hifo6Gmew"
      },
      "outputs": [
        {
          "name": "stdout",
          "output_type": "stream",
          "text": [
            "2336076.816666667\n"
          ]
        }
      ],
      "source": [
        "# Diferencia entre tiempo minimo y maximo en minutos\n",
        "diferencia_tiempo = fecha_maxima - fecha_minima\n",
        "diferencia_minutos = diferencia_tiempo.total_seconds() / 60\n",
        "print(diferencia_minutos)"
      ]
    },
    {
      "cell_type": "code",
      "execution_count": 71,
      "metadata": {
        "id": "Iz4s-o41GVPz"
      },
      "outputs": [
        {
          "name": "stdout",
          "output_type": "stream",
          "text": [
            "162285.0\n"
          ]
        }
      ],
      "source": [
        "# Sumatoria de contactos\n",
        "sumatoria_contactos = propiedades_con_venta_dentro_60_dias[\"contactos\"].sum()\n",
        "print(sumatoria_contactos)"
      ]
    },
    {
      "cell_type": "code",
      "execution_count": 72,
      "metadata": {
        "id": "rz4ye5ZeUCsj"
      },
      "outputs": [
        {
          "name": "stdout",
          "output_type": "stream",
          "text": [
            "21583\n"
          ]
        }
      ],
      "source": [
        "# Sumatoria de vendidos\n",
        "cantidad_vendidas = (propiedades[\"estado\"] == \"completed\").sum()\n",
        "print(cantidad_vendidas)"
      ]
    },
    {
      "cell_type": "markdown",
      "metadata": {
        "id": "vrH8kP30E9X5"
      },
      "source": []
    },
    {
      "cell_type": "markdown",
      "metadata": {},
      "source": [
        "## 🎯 Ajuste de Distribución para Tiempos entre Contactos\n",
        "\n",
        "Ahora vamos a ajustar una distribución estadística a nuestros datos de `contactos_por_intervalo_tiempo` usando **Fitter**.\n"
      ]
    },
    {
      "cell_type": "code",
      "execution_count": 73,
      "metadata": {},
      "outputs": [
        {
          "name": "stdout",
          "output_type": "stream",
          "text": [
            " Preparando ajuste de distribución...\n",
            "  - Total de datos: 8375\n",
            "  - Rango: [189.98, 28710.91] minutos\n",
            "\n",
            " Fitter creado correctamente\n"
          ]
        }
      ],
      "source": [
        "# Preparar Fitter con los datos de tiempo entre contactos\n",
        "# Eliminamos valores nulos si los hay\n",
        "datos_tiempo_contactos = propiedades_con_venta_dentro_60_dias['contactos_por_intervalo_tiempo'].dropna()\n",
        "\n",
        "print(f\" Preparando ajuste de distribución...\")\n",
        "print(f\"  - Total de datos: {len(datos_tiempo_contactos)}\")\n",
        "print(f\"  - Rango: [{datos_tiempo_contactos.min():.2f}, {datos_tiempo_contactos.max():.2f}] minutos\")\n",
        "\n",
        "# Crear el objeto Fitter\n",
        "fdp_tiempo_contactos = Fitter(datos_tiempo_contactos)\n",
        "print(f\"\\n Fitter creado correctamente\")\n"
      ]
    },
    {
      "cell_type": "code",
      "execution_count": 74,
      "metadata": {},
      "outputs": [
        {
          "name": "stdout",
          "output_type": "stream",
          "text": [
            "Ajustando distribuciones... (esto puede tardar un poco)\n"
          ]
        },
        {
          "name": "stderr",
          "output_type": "stream",
          "text": [
            "0.01s - Debugger warning: It seems that frozen modules are being used, which may\n",
            "0.00s - make the debugger miss breakpoints. Please pass -Xfrozen_modules=off\n",
            "0.00s - to python to disable frozen modules.\n",
            "0.00s - Note: Debugging will proceed. Set PYDEVD_DISABLE_FILE_VALIDATION=1 to disable this validation.\n",
            "0.01s - Debugger warning: It seems that frozen modules are being used, which may\n",
            "0.00s - make the debugger miss breakpoints. Please pass -Xfrozen_modules=off\n",
            "0.00s - to python to disable frozen modules.\n",
            "0.00s - Note: Debugging will proceed. Set PYDEVD_DISABLE_FILE_VALIDATION=1 to disable this validation.\n",
            "0.00s - Debugger warning: It seems that frozen modules are being used, which may\n",
            "0.00s - make the debugger miss breakpoints. Please pass -Xfrozen_modules=off\n",
            "0.00s - to python to disable frozen modules.\n",
            "0.00s - Note: Debugging will proceed. Set PYDEVD_DISABLE_FILE_VALIDATION=1 to disable this validation.\n",
            "0.00s - Debugger warning: It seems that frozen modules are being used, which may\n",
            "0.00s - make the debugger miss breakpoints. Please pass -Xfrozen_modules=off\n",
            "0.00s - to python to disable frozen modules.\n",
            "0.00s - Note: Debugging will proceed. Set PYDEVD_DISABLE_FILE_VALIDATION=1 to disable this validation.\n",
            "2025-09-29 19:19:43.634 | WARNING  | fitter.fitter:_fit_single_distribution:337 - SKIPPED _fit distribution (taking more than 30 seconds)\n",
            "2025-09-29 19:19:44.020 | INFO     | fitter.fitter:_fit_single_distribution:333 - Fitted argus distribution with error=0.0)\n",
            "2025-09-29 19:19:44.363 | INFO     | fitter.fitter:_fit_single_distribution:333 - Fitted anglit distribution with error=0.0)\n",
            "2025-09-29 19:19:44.374 | INFO     | fitter.fitter:_fit_single_distribution:333 - Fitted arcsine distribution with error=0.0)\n",
            "2025-09-29 19:19:44.463 | INFO     | fitter.fitter:_fit_single_distribution:333 - Fitted beta distribution with error=0.0)\n",
            "2025-09-29 19:19:44.480 | INFO     | fitter.fitter:_fit_single_distribution:333 - Fitted alpha distribution with error=0.0)\n",
            "2025-09-29 19:19:44.718 | INFO     | fitter.fitter:_fit_single_distribution:333 - Fitted bradford distribution with error=0.0)\n",
            "2025-09-29 19:19:44.966 | INFO     | fitter.fitter:_fit_single_distribution:333 - Fitted cauchy distribution with error=0.0)\n",
            "2025-09-29 19:19:45.040 | INFO     | fitter.fitter:_fit_single_distribution:333 - Fitted betaprime distribution with error=0.0)\n",
            "2025-09-29 19:19:45.248 | INFO     | fitter.fitter:_fit_single_distribution:333 - Fitted chi2 distribution with error=0.0)\n",
            "2025-09-29 19:19:45.256 | INFO     | fitter.fitter:_fit_single_distribution:333 - Fitted chi distribution with error=0.0)\n",
            "2025-09-29 19:19:45.318 | INFO     | fitter.fitter:_fit_single_distribution:333 - Fitted burr12 distribution with error=0.0)\n",
            "2025-09-29 19:19:45.407 | INFO     | fitter.fitter:_fit_single_distribution:333 - Fitted cosine distribution with error=0.0)\n",
            "2025-09-29 19:19:45.603 | INFO     | fitter.fitter:_fit_single_distribution:333 - Fitted dgamma distribution with error=0.0)\n",
            "2025-09-29 19:19:45.933 | INFO     | fitter.fitter:_fit_single_distribution:333 - Fitted dweibull distribution with error=0.0)\n",
            "2025-09-29 19:19:45.961 | INFO     | fitter.fitter:_fit_single_distribution:333 - Fitted crystalball distribution with error=0.0)\n",
            "2025-09-29 19:19:46.015 | INFO     | fitter.fitter:_fit_single_distribution:333 - Fitted expon distribution with error=0.0)\n",
            "2025-09-29 19:19:46.206 | INFO     | fitter.fitter:_fit_single_distribution:333 - Fitted erlang distribution with error=0.0)\n",
            "2025-09-29 19:19:46.211 | INFO     | fitter.fitter:_fit_single_distribution:333 - Fitted burr distribution with error=0.0)\n",
            "2025-09-29 19:19:46.417 | INFO     | fitter.fitter:_fit_single_distribution:333 - Fitted exponnorm distribution with error=0.0)\n",
            "2025-09-29 19:19:46.826 | INFO     | fitter.fitter:_fit_single_distribution:333 - Fitted exponpow distribution with error=0.0)\n",
            "2025-09-29 19:19:47.186 | INFO     | fitter.fitter:_fit_single_distribution:333 - Fitted exponweib distribution with error=0.0)\n",
            "2025-09-29 19:19:47.189 | INFO     | fitter.fitter:_fit_single_distribution:333 - Fitted f distribution with error=0.0)\n",
            "2025-09-29 19:19:47.249 | INFO     | fitter.fitter:_fit_single_distribution:333 - Fitted fatiguelife distribution with error=0.0)\n",
            "2025-09-29 19:19:47.488 | INFO     | fitter.fitter:_fit_single_distribution:333 - Fitted foldcauchy distribution with error=0.0)\n",
            "2025-09-29 19:19:47.509 | INFO     | fitter.fitter:_fit_single_distribution:333 - Fitted dpareto_lognorm distribution with error=0.0)\n",
            "2025-09-29 19:19:47.554 | INFO     | fitter.fitter:_fit_single_distribution:333 - Fitted foldnorm distribution with error=0.0)\n",
            "2025-09-29 19:19:47.611 | INFO     | fitter.fitter:_fit_single_distribution:333 - Fitted gamma distribution with error=0.0)\n",
            "2025-09-29 19:19:48.061 | INFO     | fitter.fitter:_fit_single_distribution:333 - Fitted fisk distribution with error=0.0)\n",
            "2025-09-29 19:19:48.466 | INFO     | fitter.fitter:_fit_single_distribution:333 - Fitted genextreme distribution with error=0.0)\n",
            "2025-09-29 19:19:48.826 | INFO     | fitter.fitter:_fit_single_distribution:333 - Fitted genexpon distribution with error=0.0)\n",
            "2025-09-29 19:19:49.042 | INFO     | fitter.fitter:_fit_single_distribution:333 - Fitted gengamma distribution with error=0.0)\n",
            "2025-09-29 19:19:49.099 | INFO     | fitter.fitter:_fit_single_distribution:333 - Fitted genhalflogistic distribution with error=0.0)\n",
            "2025-09-29 19:19:49.629 | INFO     | fitter.fitter:_fit_single_distribution:333 - Fitted genlogistic distribution with error=0.0)\n",
            "2025-09-29 19:19:50.022 | INFO     | fitter.fitter:_fit_single_distribution:333 - Fitted gennorm distribution with error=0.0)\n",
            "2025-09-29 19:19:50.637 | INFO     | fitter.fitter:_fit_single_distribution:333 - Fitted genpareto distribution with error=0.0)\n",
            "2025-09-29 19:19:51.355 | INFO     | fitter.fitter:_fit_single_distribution:333 - Fitted gibrat distribution with error=0.0)\n",
            "2025-09-29 19:19:51.998 | INFO     | fitter.fitter:_fit_single_distribution:333 - Fitted gompertz distribution with error=0.0)\n",
            "2025-09-29 19:19:52.072 | INFO     | fitter.fitter:_fit_single_distribution:333 - Fitted gumbel_l distribution with error=0.0)\n",
            "2025-09-29 19:19:52.141 | INFO     | fitter.fitter:_fit_single_distribution:333 - Fitted gumbel_r distribution with error=0.0)\n",
            "2025-09-29 19:19:52.200 | INFO     | fitter.fitter:_fit_single_distribution:333 - Fitted halfcauchy distribution with error=0.0)\n",
            "2025-09-29 19:19:53.020 | INFO     | fitter.fitter:_fit_single_distribution:333 - Fitted halfgennorm distribution with error=0.0)\n",
            "2025-09-29 19:19:53.087 | INFO     | fitter.fitter:_fit_single_distribution:333 - Fitted halflogistic distribution with error=0.0)\n",
            "2025-09-29 19:19:53.130 | INFO     | fitter.fitter:_fit_single_distribution:333 - Fitted halfnorm distribution with error=0.0)\n",
            "2025-09-29 19:19:53.393 | INFO     | fitter.fitter:_fit_single_distribution:333 - Fitted hypsecant distribution with error=0.0)\n",
            "2025-09-29 19:19:54.016 | INFO     | fitter.fitter:_fit_single_distribution:333 - Fitted invgamma distribution with error=0.0)\n",
            "2025-09-29 19:19:54.430 | INFO     | fitter.fitter:_fit_single_distribution:333 - Fitted invgauss distribution with error=0.0)\n",
            "2025-09-29 19:19:54.775 | INFO     | fitter.fitter:_fit_single_distribution:333 - Fitted invweibull distribution with error=0.0)\n",
            "2025-09-29 19:19:54.815 | WARNING  | fitter.fitter:_fit_single_distribution:337 - SKIPPED irwinhall distribution (taking more than 30 seconds)\n",
            "2025-09-29 19:19:56.485 | INFO     | fitter.fitter:_fit_single_distribution:333 - Fitted jf_skew_t distribution with error=0.0)\n",
            "2025-09-29 19:19:56.982 | INFO     | fitter.fitter:_fit_single_distribution:333 - Fitted johnsonsb distribution with error=0.0)\n",
            "2025-09-29 19:19:57.031 | INFO     | fitter.fitter:_fit_single_distribution:333 - Fitted geninvgauss distribution with error=0.0)\n",
            "2025-09-29 19:19:57.675 | INFO     | fitter.fitter:_fit_single_distribution:333 - Fitted kappa3 distribution with error=0.0)\n",
            "2025-09-29 19:19:57.691 | INFO     | fitter.fitter:_fit_single_distribution:333 - Fitted johnsonsu distribution with error=0.0)\n",
            "2025-09-29 19:19:57.789 | INFO     | fitter.fitter:_fit_single_distribution:333 - Fitted ksone distribution with error=0.0)\n",
            "2025-09-29 19:19:57.831 | WARNING  | fitter.fitter:_fit_single_distribution:337 - SKIPPED kstwo distribution (taking more than 30 seconds)\n",
            "2025-09-29 19:19:58.278 | INFO     | fitter.fitter:_fit_single_distribution:333 - Fitted kstwobign distribution with error=0.0)\n",
            "2025-09-29 19:19:58.432 | INFO     | fitter.fitter:_fit_single_distribution:333 - Fitted landau distribution with error=0.0)\n",
            "2025-09-29 19:19:58.474 | INFO     | fitter.fitter:_fit_single_distribution:333 - Fitted laplace distribution with error=0.0)\n",
            "2025-09-29 19:19:58.634 | INFO     | fitter.fitter:_fit_single_distribution:333 - Fitted laplace_asymmetric distribution with error=0.0)\n",
            "2025-09-29 19:19:58.724 | INFO     | fitter.fitter:_fit_single_distribution:333 - Fitted kappa4 distribution with error=0.0)\n",
            "2025-09-29 19:19:58.752 | INFO     | fitter.fitter:_fit_single_distribution:333 - Fitted levy distribution with error=0.0)\n",
            "2025-09-29 19:19:58.920 | INFO     | fitter.fitter:_fit_single_distribution:333 - Fitted levy_l distribution with error=0.0)\n",
            "2025-09-29 19:19:59.099 | INFO     | fitter.fitter:_fit_single_distribution:333 - Fitted loggamma distribution with error=0.0)\n",
            "2025-09-29 19:19:59.161 | INFO     | fitter.fitter:_fit_single_distribution:333 - Fitted logistic distribution with error=0.0)\n",
            "2025-09-29 19:19:59.620 | INFO     | fitter.fitter:_fit_single_distribution:333 - Fitted loglaplace distribution with error=0.0)\n",
            "2025-09-29 19:19:59.696 | INFO     | fitter.fitter:_fit_single_distribution:333 - Fitted lognorm distribution with error=0.0)\n",
            "2025-09-29 19:20:00.019 | INFO     | fitter.fitter:_fit_single_distribution:333 - Fitted loguniform distribution with error=0.0)\n",
            "2025-09-29 19:20:00.385 | INFO     | fitter.fitter:_fit_single_distribution:333 - Fitted lomax distribution with error=0.0)\n",
            "2025-09-29 19:20:00.503 | INFO     | fitter.fitter:_fit_single_distribution:333 - Fitted maxwell distribution with error=0.0)\n",
            "2025-09-29 19:20:00.934 | INFO     | fitter.fitter:_fit_single_distribution:333 - Fitted gausshyper distribution with error=0.0)\n",
            "2025-09-29 19:20:01.055 | INFO     | fitter.fitter:_fit_single_distribution:333 - Fitted moyal distribution with error=0.0)\n",
            "2025-09-29 19:20:01.115 | WARNING  | fitter.fitter:_fit_single_distribution:337 - SKIPPED multivariate_normal distribution (taking more than 30 seconds)\n",
            "2025-09-29 19:20:01.329 | INFO     | fitter.fitter:_fit_single_distribution:333 - Fitted mielke distribution with error=0.0)\n",
            "2025-09-29 19:20:01.362 | INFO     | fitter.fitter:_fit_single_distribution:333 - Fitted nakagami distribution with error=0.0)\n",
            "2025-09-29 19:20:04.191 | INFO     | fitter.fitter:_fit_single_distribution:333 - Fitted ncf distribution with error=0.0)\n",
            "2025-09-29 19:20:11.861 | INFO     | fitter.fitter:_fit_single_distribution:333 - Fitted genhyperbolic distribution with error=0.0)\n",
            "2025-09-29 19:20:11.925 | INFO     | fitter.fitter:_fit_single_distribution:333 - Fitted norm distribution with error=0.0)\n",
            "2025-09-29 19:20:12.818 | INFO     | fitter.fitter:_fit_single_distribution:333 - Fitted ncx2 distribution with error=0.0)\n",
            "2025-09-29 19:20:12.879 | INFO     | fitter.fitter:_fit_single_distribution:333 - Fitted pareto distribution with error=0.0)\n",
            "2025-09-29 19:20:13.721 | INFO     | fitter.fitter:_fit_single_distribution:333 - Fitted pearson3 distribution with error=0.0)\n",
            "2025-09-29 19:20:13.805 | INFO     | fitter.fitter:_fit_single_distribution:333 - Fitted powerlaw distribution with error=0.0)\n",
            "2025-09-29 19:20:18.091 | INFO     | fitter.fitter:_fit_single_distribution:333 - Fitted powerlognorm distribution with error=0.0)\n",
            "2025-09-29 19:20:18.988 | INFO     | fitter.fitter:_fit_single_distribution:333 - Fitted powernorm distribution with error=nan)\n",
            "2025-09-29 19:20:19.076 | INFO     | fitter.fitter:_fit_single_distribution:333 - Fitted rayleigh distribution with error=0.0)\n",
            "2025-09-29 19:20:19.436 | INFO     | fitter.fitter:_fit_single_distribution:333 - Fitted rdist distribution with error=0.0)\n",
            "2025-09-29 19:20:24.941 | INFO     | fitter.fitter:_fit_single_distribution:333 - Fitted recipinvgauss distribution with error=0.0)\n",
            "2025-09-29 19:20:25.132 | INFO     | fitter.fitter:_fit_single_distribution:333 - Fitted reciprocal distribution with error=0.0)\n",
            "2025-09-29 19:20:25.643 | INFO     | fitter.fitter:_fit_single_distribution:333 - Fitted rel_breitwigner distribution with error=0.0)\n",
            "2025-09-29 19:20:26.482 | INFO     | fitter.fitter:_fit_single_distribution:333 - Fitted rice distribution with error=0.0)\n",
            "2025-09-29 19:20:26.505 | WARNING  | fitter.fitter:_fit_single_distribution:337 - SKIPPED rv_continuous distribution (taking more than 30 seconds)\n",
            "2025-09-29 19:20:26.528 | WARNING  | fitter.fitter:_fit_single_distribution:337 - SKIPPED rv_histogram distribution (taking more than 30 seconds)\n",
            "2025-09-29 19:20:26.719 | INFO     | fitter.fitter:_fit_single_distribution:333 - Fitted semicircular distribution with error=0.0)\n",
            "2025-09-29 19:20:27.018 | INFO     | fitter.fitter:_fit_single_distribution:333 - Fitted skewcauchy distribution with error=0.0)\n",
            "2025-09-29 19:20:27.628 | INFO     | fitter.fitter:_fit_single_distribution:333 - Fitted skewnorm distribution with error=0.0)\n",
            "2025-09-29 19:20:31.339 | WARNING  | fitter.fitter:_fit_single_distribution:337 - SKIPPED levy_stable distribution (taking more than 30 seconds)\n",
            "2025-09-29 19:20:33.203 | INFO     | fitter.fitter:_fit_single_distribution:333 - Fitted t distribution with error=0.0)\n",
            "2025-09-29 19:20:33.542 | INFO     | fitter.fitter:_fit_single_distribution:333 - Fitted trapezoid distribution with error=0.0)\n",
            "2025-09-29 19:20:33.943 | WARNING  | fitter.fitter:_fit_single_distribution:337 - SKIPPED nct distribution (taking more than 30 seconds)\n",
            "2025-09-29 19:20:34.095 | INFO     | fitter.fitter:_fit_single_distribution:333 - Fitted truncexpon distribution with error=0.0)\n",
            "2025-09-29 19:20:34.539 | INFO     | fitter.fitter:_fit_single_distribution:333 - Fitted norminvgauss distribution with error=0.0)\n",
            "2025-09-29 19:20:34.561 | INFO     | fitter.fitter:_fit_single_distribution:333 - Fitted truncnorm distribution with error=0.0)\n",
            "2025-09-29 19:20:34.882 | INFO     | fitter.fitter:_fit_single_distribution:333 - Fitted truncpareto distribution with error=0.0)\n",
            "2025-09-29 19:20:35.467 | INFO     | fitter.fitter:_fit_single_distribution:333 - Fitted truncweibull_min distribution with error=0.0)\n",
            "2025-09-29 19:20:35.492 | INFO     | fitter.fitter:_fit_single_distribution:333 - Fitted uniform distribution with error=0.0)\n",
            "2025-09-29 19:20:35.517 | INFO     | fitter.fitter:_fit_single_distribution:333 - Fitted vonmises distribution with error=2.5324)\n",
            "2025-09-29 19:20:35.540 | WARNING  | fitter.fitter:_fit_single_distribution:337 - SKIPPED vonmises_fisher distribution (taking more than 30 seconds)\n",
            "2025-09-29 19:20:37.483 | INFO     | fitter.fitter:_fit_single_distribution:333 - Fitted vonmises_line distribution with error=0.0)\n",
            "/home/mateo/Desktop/repos-github/simulacion-TP6/.venv/lib/python3.12/site-packages/scipy/integrate/_quadpack_py.py:1264: IntegrationWarning: The maximum number of subdivisions (50) has been achieved.\n",
            "  If increasing the limit yields no improvement it is advised to analyze \n",
            "  the integrand in order to determine the difficulties.  If the position of a \n",
            "  local difficulty can be determined (singularity, discontinuity) one will \n",
            "  probably gain from splitting up the interval and calling the integrator \n",
            "  on the subranges.  Perhaps a special-purpose integrator should be used.\n",
            "  quad_r = quad(f, low, high, args=args, full_output=self.full_output,\n",
            "2025-09-29 19:20:37.674 | INFO     | fitter.fitter:_fit_single_distribution:333 - Fitted wald distribution with error=0.0)\n",
            "2025-09-29 19:20:37.999 | INFO     | fitter.fitter:_fit_single_distribution:333 - Fitted weibull_max distribution with error=0.0)\n",
            "2025-09-29 19:20:38.267 | INFO     | fitter.fitter:_fit_single_distribution:333 - Fitted weibull_min distribution with error=0.0)\n",
            "2025-09-29 19:20:38.537 | INFO     | fitter.fitter:_fit_single_distribution:333 - Fitted wrapcauchy distribution with error=0.0)\n",
            "2025-09-29 19:20:38.797 | INFO     | fitter.fitter:_fit_single_distribution:333 - Fitted triang distribution with error=0.0)\n",
            "/home/mateo/Desktop/repos-github/simulacion-TP6/.venv/lib/python3.12/site-packages/scipy/integrate/_quadpack_py.py:1264: IntegrationWarning: The integral is probably divergent, or slowly convergent.\n",
            "  quad_r = quad(f, low, high, args=args, full_output=self.full_output,\n",
            "2025-09-29 19:20:58.937 | INFO     | fitter.fitter:_fit_single_distribution:333 - Fitted tukeylambda distribution with error=0.0)\n"
          ]
        },
        {
          "name": "stdout",
          "output_type": "stream",
          "text": [
            "Ajuste completado!\n"
          ]
        },
        {
          "name": "stderr",
          "output_type": "stream",
          "text": [
            "2025-09-29 19:21:00.418 | WARNING  | fitter.fitter:_fit_single_distribution:337 - SKIPPED studentized_range distribution (taking more than 30 seconds)\n"
          ]
        }
      ],
      "source": [
        "# Ajustar los datos a múltiples distribuciones de SciPy\n",
        "# Esto puede tardar unos minutos...\n",
        "print(\"Ajustando distribuciones... (esto puede tardar un poco)\")\n",
        "fdp_tiempo_contactos.fit()\n",
        "print(\"Ajuste completado!\")\n"
      ]
    },
    {
      "cell_type": "code",
      "execution_count": 75,
      "metadata": {},
      "outputs": [
        {
          "name": "stdout",
          "output_type": "stream",
          "text": [
            "Top 10 mejores distribuciones ajustadas:\n",
            "\n"
          ]
        },
        {
          "data": {
            "text/html": [
              "<div>\n",
              "<style scoped>\n",
              "    .dataframe tbody tr th:only-of-type {\n",
              "        vertical-align: middle;\n",
              "    }\n",
              "\n",
              "    .dataframe tbody tr th {\n",
              "        vertical-align: top;\n",
              "    }\n",
              "\n",
              "    .dataframe thead th {\n",
              "        text-align: right;\n",
              "    }\n",
              "</style>\n",
              "<table border=\"1\" class=\"dataframe\">\n",
              "  <thead>\n",
              "    <tr style=\"text-align: right;\">\n",
              "      <th></th>\n",
              "      <th>sumsquare_error</th>\n",
              "      <th>aic</th>\n",
              "      <th>bic</th>\n",
              "      <th>kl_div</th>\n",
              "      <th>ks_statistic</th>\n",
              "      <th>ks_pvalue</th>\n",
              "    </tr>\n",
              "  </thead>\n",
              "  <tbody>\n",
              "    <tr>\n",
              "      <th>skewnorm</th>\n",
              "      <td>3.199818e-09</td>\n",
              "      <td>2115.650708</td>\n",
              "      <td>2136.749727</td>\n",
              "      <td>0.019119</td>\n",
              "      <td>0.022318</td>\n",
              "      <td>4.687929e-04</td>\n",
              "    </tr>\n",
              "    <tr>\n",
              "      <th>triang</th>\n",
              "      <td>3.503376e-09</td>\n",
              "      <td>2095.629765</td>\n",
              "      <td>2116.728784</td>\n",
              "      <td>0.019373</td>\n",
              "      <td>0.025131</td>\n",
              "      <td>4.997510e-05</td>\n",
              "    </tr>\n",
              "    <tr>\n",
              "      <th>johnsonsb</th>\n",
              "      <td>3.623826e-09</td>\n",
              "      <td>2100.446033</td>\n",
              "      <td>2128.578058</td>\n",
              "      <td>0.019954</td>\n",
              "      <td>0.021835</td>\n",
              "      <td>6.700500e-04</td>\n",
              "    </tr>\n",
              "    <tr>\n",
              "      <th>gausshyper</th>\n",
              "      <td>3.720398e-09</td>\n",
              "      <td>2094.814328</td>\n",
              "      <td>2137.012366</td>\n",
              "      <td>0.018092</td>\n",
              "      <td>0.040223</td>\n",
              "      <td>3.283761e-12</td>\n",
              "    </tr>\n",
              "    <tr>\n",
              "      <th>geninvgauss</th>\n",
              "      <td>3.784543e-09</td>\n",
              "      <td>2119.639057</td>\n",
              "      <td>2147.771083</td>\n",
              "      <td>0.023865</td>\n",
              "      <td>0.032714</td>\n",
              "      <td>3.197376e-08</td>\n",
              "    </tr>\n",
              "    <tr>\n",
              "      <th>genhyperbolic</th>\n",
              "      <td>4.249185e-09</td>\n",
              "      <td>2126.072809</td>\n",
              "      <td>2161.237841</td>\n",
              "      <td>0.024138</td>\n",
              "      <td>0.030144</td>\n",
              "      <td>4.797840e-07</td>\n",
              "    </tr>\n",
              "    <tr>\n",
              "      <th>pearson3</th>\n",
              "      <td>4.475513e-09</td>\n",
              "      <td>2119.734613</td>\n",
              "      <td>2140.833632</td>\n",
              "      <td>0.025501</td>\n",
              "      <td>0.029099</td>\n",
              "      <td>1.355020e-06</td>\n",
              "    </tr>\n",
              "    <tr>\n",
              "      <th>gamma</th>\n",
              "      <td>4.475514e-09</td>\n",
              "      <td>2119.734616</td>\n",
              "      <td>2140.833635</td>\n",
              "      <td>0.025501</td>\n",
              "      <td>0.029099</td>\n",
              "      <td>1.355026e-06</td>\n",
              "    </tr>\n",
              "    <tr>\n",
              "      <th>erlang</th>\n",
              "      <td>4.475514e-09</td>\n",
              "      <td>2119.734616</td>\n",
              "      <td>2140.833635</td>\n",
              "      <td>0.025501</td>\n",
              "      <td>0.029099</td>\n",
              "      <td>1.355024e-06</td>\n",
              "    </tr>\n",
              "    <tr>\n",
              "      <th>f</th>\n",
              "      <td>4.732287e-09</td>\n",
              "      <td>2120.901312</td>\n",
              "      <td>2149.033337</td>\n",
              "      <td>0.027295</td>\n",
              "      <td>0.030541</td>\n",
              "      <td>3.203791e-07</td>\n",
              "    </tr>\n",
              "  </tbody>\n",
              "</table>\n",
              "</div>"
            ],
            "text/plain": [
              "               sumsquare_error          aic          bic    kl_div  \\\n",
              "skewnorm          3.199818e-09  2115.650708  2136.749727  0.019119   \n",
              "triang            3.503376e-09  2095.629765  2116.728784  0.019373   \n",
              "johnsonsb         3.623826e-09  2100.446033  2128.578058  0.019954   \n",
              "gausshyper        3.720398e-09  2094.814328  2137.012366  0.018092   \n",
              "geninvgauss       3.784543e-09  2119.639057  2147.771083  0.023865   \n",
              "genhyperbolic     4.249185e-09  2126.072809  2161.237841  0.024138   \n",
              "pearson3          4.475513e-09  2119.734613  2140.833632  0.025501   \n",
              "gamma             4.475514e-09  2119.734616  2140.833635  0.025501   \n",
              "erlang            4.475514e-09  2119.734616  2140.833635  0.025501   \n",
              "f                 4.732287e-09  2120.901312  2149.033337  0.027295   \n",
              "\n",
              "               ks_statistic     ks_pvalue  \n",
              "skewnorm           0.022318  4.687929e-04  \n",
              "triang             0.025131  4.997510e-05  \n",
              "johnsonsb          0.021835  6.700500e-04  \n",
              "gausshyper         0.040223  3.283761e-12  \n",
              "geninvgauss        0.032714  3.197376e-08  \n",
              "genhyperbolic      0.030144  4.797840e-07  \n",
              "pearson3           0.029099  1.355020e-06  \n",
              "gamma              0.029099  1.355026e-06  \n",
              "erlang             0.029099  1.355024e-06  \n",
              "f                  0.030541  3.203791e-07  "
            ]
          },
          "execution_count": 75,
          "metadata": {},
          "output_type": "execute_result"
        },
        {
          "data": {
            "image/png": "[encoded data removed]",
            "text/plain": [
              "<Figure size 640x480 with 1 Axes>"
            ]
          },
          "metadata": {},
          "output_type": "display_data"
        }
      ],
      "source": [
        "# Ver el resumen de las 10 mejores distribuciones\n",
        "print(\"Top 10 mejores distribuciones ajustadas:\\n\")\n",
        "fdp_tiempo_contactos.summary(10)\n"
      ]
    },
    {
      "cell_type": "code",
      "execution_count": 76,
      "metadata": {},
      "outputs": [
        {
          "name": "stdout",
          "output_type": "stream",
          "text": [
            "Mejor distribución encontrada segun sumsquare_error:\n",
            "{'skewnorm': {'a': 13.681217756311524, 'loc': 1929.128868971957, 'scale': 11721.128134950926}}\n"
          ]
        }
      ],
      "source": [
        "# Obtener la MEJOR distribución según sumsquare_error\n",
        "# \n",
        "# IMPORTANTE: Esta celda te muestra la \"mejor\" según un criterio automático,\n",
        "# pero TÚ debes elegir una distribución que sea fácil de invertir.\n",
        "# Por ejemplo, Wald puede ser compleja de invertir manualmente.\n",
        "#\n",
        "# Recomendaciones de distribuciones fáciles de invertir:\n",
        "# - Exponencial (expon): Muy fácil\n",
        "# - Uniforme (uniform): Trivial\n",
        "# - Weibull (weibull_min): Moderada\n",
        "# - Logística (logistic): Moderada\n",
        "\n",
        "mejor_distribucion = fdp_tiempo_contactos.get_best(method='sumsquare_error')\n",
        "print(\"Mejor distribución encontrada segun sumsquare_error:\")\n",
        "print(mejor_distribucion)"
      ]
    },
    {
      "cell_type": "code",
      "execution_count": 77,
      "metadata": {},
      "outputs": [
        {
          "name": "stdout",
          "output_type": "stream",
          "text": [
            "Top 10 distribuciones (ordenadas por mejor ajuste):\n",
            "\n",
            "               sumsquare_error          aic          bic    kl_div  \\\n",
            "skewnorm          3.199818e-09  2115.650708  2136.749727  0.019119   \n",
            "triang            3.503376e-09  2095.629765  2116.728784  0.019373   \n",
            "johnsonsb         3.623826e-09  2100.446033  2128.578058  0.019954   \n",
            "gausshyper        3.720398e-09  2094.814328  2137.012366  0.018092   \n",
            "geninvgauss       3.784543e-09  2119.639057  2147.771083  0.023865   \n",
            "genhyperbolic     4.249185e-09  2126.072809  2161.237841  0.024138   \n",
            "pearson3          4.475513e-09  2119.734613  2140.833632  0.025501   \n",
            "gamma             4.475514e-09  2119.734616  2140.833635  0.025501   \n",
            "erlang            4.475514e-09  2119.734616  2140.833635  0.025501   \n",
            "f                 4.732287e-09  2120.901312  2149.033337  0.027295   \n",
            "\n",
            "               ks_statistic     ks_pvalue  \n",
            "skewnorm           0.022318  4.687929e-04  \n",
            "triang             0.025131  4.997510e-05  \n",
            "johnsonsb          0.021835  6.700500e-04  \n",
            "gausshyper         0.040223  3.283761e-12  \n",
            "geninvgauss        0.032714  3.197376e-08  \n",
            "genhyperbolic      0.030144  4.797840e-07  \n",
            "pearson3           0.029099  1.355020e-06  \n",
            "gamma              0.029099  1.355026e-06  \n",
            "erlang             0.029099  1.355024e-06  \n",
            "f                  0.030541  3.203791e-07  \n",
            "\n",
            "================================================================================\n"
          ]
        }
      ],
      "source": [
        "# ============================================================================\n",
        "# EXPLORAR DISTRIBUCIONES: Ve los parámetros de cada distribución\n",
        "# ============================================================================\n",
        "\n",
        "# Obtener el summary como DataFrame para poder explorarlo\n",
        "summary_df = fdp_tiempo_contactos.df_errors.sort_values(by='sumsquare_error').head(10)\n",
        "\n",
        "print(\"Top 10 distribuciones (ordenadas por mejor ajuste):\\n\")\n",
        "print(summary_df)\n",
        "print(\"\\n\" + \"=\"*80)\n",
        "\n",
        "# Función para ver los parámetros de una distribución específica\n",
        "def ver_parametros(indice):\n",
        "    \"\"\"\n",
        "    Muestra los parámetros de la distribución en la posición 'indice' (0-9)\n",
        "    \n",
        "    Ejemplo: ver_parametros(0) → muestra la mejor distribución\n",
        "             ver_parametros(1) → muestra la segunda mejor\n",
        "    \"\"\"\n",
        "    if indice < 0 or indice >= len(summary_df):\n",
        "        print(f\"Error: índice {indice} fuera de rango. Usa 0-9\")\n",
        "        return\n",
        "    \n",
        "    # Obtener el nombre de la distribución\n",
        "    nombre_dist = summary_df.index[indice]\n",
        "    \n",
        "    # Obtener los parámetros (vienen como tupla)\n",
        "    parametros_raw = fdp_tiempo_contactos.fitted_param[nombre_dist]\n",
        "    \n",
        "    # Obtener la distribución de scipy\n",
        "    dist_scipy = getattr(stats, nombre_dist)\n",
        "    \n",
        "    print(f\"\\n{'='*80}\")\n",
        "    print(f\"Distribución #{indice}: {nombre_dist}\")\n",
        "    print(f\"{'='*80}\")\n",
        "    print(f\"\\nParámetros:\\n\")\n",
        "    \n",
        "    # Convertir tupla a diccionario con nombres apropiados\n",
        "    if isinstance(parametros_raw, tuple):\n",
        "        # La mayoría de distribuciones tienen estos parámetros al final\n",
        "        shapes = parametros_raw[:-2] if len(parametros_raw) > 2 else ()\n",
        "        loc = parametros_raw[-2] if len(parametros_raw) >= 2 else 0\n",
        "        scale = parametros_raw[-1] if len(parametros_raw) >= 1 else 1\n",
        "        \n",
        "        # Obtener nombres de los parámetros de forma (shape parameters)\n",
        "        if hasattr(dist_scipy, 'shapes') and dist_scipy.shapes:\n",
        "            shape_names = dist_scipy.shapes.split(', ')\n",
        "        else:\n",
        "            shape_names = []\n",
        "        \n",
        "        # Crear diccionario con nombres apropiados\n",
        "        parametros = {}\n",
        "        for i, (name, val) in enumerate(zip(shape_names, shapes)):\n",
        "            parametros[name] = val\n",
        "        if len(parametros_raw) >= 2:\n",
        "            parametros['loc'] = loc\n",
        "        if len(parametros_raw) >= 1:\n",
        "            parametros['scale'] = scale\n",
        "    else:\n",
        "        parametros = parametros_raw\n",
        "    \n",
        "    # Mostrar parámetros de forma clara\n",
        "    for param, valor in parametros.items():\n",
        "        print(f\"   {param:10s} = {valor}\")\n",
        "    \n",
        "    print(f\"\\n📝 Código para copiar:\\n\")\n",
        "    print(f\"   distribucion_elegida = '{nombre_dist}'\")\n",
        "    for param, valor in parametros.items():\n",
        "        print(f\"   {param} = {valor}\")\n",
        "    \n",
        "    print(f\"\\n{'='*80}\")\n",
        "    \n",
        "    return nombre_dist, parametros"
      ]
    },
    {
      "cell_type": "code",
      "execution_count": 79,
      "metadata": {},
      "outputs": [
        {
          "name": "stdout",
          "output_type": "stream",
          "text": [
            "\n",
            "================================================================================\n",
            "Distribución #1: triang\n",
            "================================================================================\n",
            "\n",
            "Parámetros:\n",
            "\n",
            "   c          = 0.11683330812731067\n",
            "   loc        = 169.04207586301385\n",
            "   scale      = 30433.163765426078\n",
            "\n",
            "📝 Código para copiar:\n",
            "\n",
            "   distribucion_elegida = 'triang'\n",
            "   c = 0.11683330812731067\n",
            "   loc = 169.04207586301385\n",
            "   scale = 30433.163765426078\n",
            "\n",
            "================================================================================\n"
          ]
        },
        {
          "data": {
            "text/plain": [
              "('triang',\n",
              " {'c': 0.11683330812731067,\n",
              "  'loc': 169.04207586301385,\n",
              "  'scale': 30433.163765426078})"
            ]
          },
          "execution_count": 79,
          "metadata": {},
          "output_type": "execute_result"
        }
      ],
      "source": [
        "# EJEMPLO: Ver los parámetros de diferentes distribuciones\n",
        "# \n",
        "# Cambia el número (0-9) para explorar diferentes distribuciones:\n",
        "\n",
        "# Ver la mejor distribución (índice 0)\n",
        "ver_parametros(1)\n"
      ]
    },
    {
      "cell_type": "markdown",
      "metadata": {
        "id": "szb9X_miBNJh"
      },
      "source": [
        "---\n",
        "---\n",
        "# 🎯 Implementa tu inverse sampling aquí\n",
        "\n",
        "Después de revisar las top 10 distribuciones, elige una y guarda sus parámetros abajo.  \n",
        "Luego implementa tu método de inverse sampling a mano."
      ]
    },
    {
      "cell_type": "code",
      "execution_count": 81,
      "metadata": {
        "id": "mPCxdh79BVlB"
      },
      "outputs": [],
      "source": [
        "# PASO 1: Guarda los parámetros de la distribución que elegiste\n",
        "# \n",
        "# Ejemplo para distribución F (reemplaza con tu elección):\n",
        "distribucion_elegida = 'triang'\n",
        "c = 0.11683330812731067\n",
        "loc = 169.04207586301385\n",
        "scale = 30433.163765426078"
      ]
    },
    {
      "cell_type": "code",
      "execution_count": 83,
      "metadata": {
        "id": "RnStYz_WBz5G"
      },
      "outputs": [
        {
          "name": "stdout",
          "output_type": "stream",
          "text": [
            "Muestras generadas: 20000\n",
            "Estadísticas de las muestras:\n",
            "   Media: 11403.27 minutos\n",
            "   Desv. Est.: 6751.53\n"
          ]
        }
      ],
      "source": [
        "# PASO 2: INVERSE SAMPLING\n",
        "#\n",
        "# Aquí debes:\n",
        "# 1. Invertir la CDF de la distribución que elegiste\n",
        "# 2. Generar números aleatorios uniformes U ~ Uniform(0,1)\n",
        "# 3. Aplicar la función inversa: X = F^(-1)(U)\n",
        "#\n",
        "# Ejemplo básico (reemplaza con tu implementación):\n",
        "\n",
        "# Generar muestras usando el método de scipy como referencia\n",
        "# (implementar la inversa a mano)\n",
        "fdp_f = stats.triang.rvs(c, loc=loc, scale=scale, size=20000)\n",
        "\n",
        "print(f\"Muestras generadas: {len(fdp_f)}\")\n",
        "print(f\"Estadísticas de las muestras:\")\n",
        "print(f\"   Media: {fdp_f.mean():.2f} minutos\")\n",
        "print(f\"   Desv. Est.: {fdp_f.std():.2f}\")"
      ]
    },
    {
      "cell_type": "markdown",
      "metadata": {},
      "source": [
        "---\n",
        "---\n",
        "## 🔥 ANÁLISIS CRÍTICO: Ocupación del Sistema\n",
        "\n",
        "**IMPORTANTE:** El tiempo entre visitas POR PROPIEDAD (ej: 7 días) NO es lo mismo que el tiempo entre visitas AL SISTEMA.\n",
        "\n",
        "Si tienes 20,000 propiedades activas y cada una recibe visitas cada 7 días:\n",
        "- El SISTEMA recibe visitas mucho más frecuentemente\n",
        "- Necesitas saber cuántas propiedades están activas simultáneamente\n"
      ]
    },
    {
      "cell_type": "code",
      "execution_count": 84,
      "metadata": {},
      "outputs": [
        {
          "name": "stdout",
          "output_type": "stream",
          "text": [
            "📈 Calculando ocupación del sistema...\n",
            "================================================================================\n",
            "\n",
            "📅 Período de análisis:\n",
            "  Desde: 2019-06-25\n",
            "  Hasta: 2025-09-23\n",
            "  Duración: 2282 días\n",
            "\n",
            "🔍 Analizando 2283 días...\n",
            "(Esto puede tardar un momento...)\n"
          ]
        }
      ],
      "source": [
        "# 📊 PASO 1: Calcular cuántas propiedades hay activas simultáneamente\n",
        "# =========================================================================\n",
        "\n",
        "# Necesitamos las fechas de todas las propiedades (vendidas y no vendidas)\n",
        "# Para cada día, contar cuántas propiedades están \"activas\" (publicadas pero no vendidas aún)\n",
        "\n",
        "print(\"📈 Calculando ocupación del sistema...\")\n",
        "print(\"=\"*80)\n",
        "\n",
        "# Obtener rango de fechas\n",
        "fecha_min = propiedades['fecha_creacion_dt'].min()\n",
        "fecha_max = propiedades['fecha_venta_dt'].max()\n",
        "\n",
        "# Si hay NaT (propiedades no vendidas), usar fecha actual o fecha_expiracion\n",
        "if pd.isna(fecha_max):\n",
        "    fecha_max = propiedades['fecha_expiracion_dt'].max()\n",
        "\n",
        "print(f\"\\n📅 Período de análisis:\")\n",
        "print(f\"  Desde: {fecha_min.date()}\")\n",
        "print(f\"  Hasta: {fecha_max.date()}\")\n",
        "print(f\"  Duración: {(fecha_max - fecha_min).days} días\")\n",
        "\n",
        "# Crear un rango de fechas para analizar (por ejemplo, cada día)\n",
        "fechas_analisis = pd.date_range(start=fecha_min, end=fecha_max, freq='D')\n",
        "\n",
        "print(f\"\\n🔍 Analizando {len(fechas_analisis)} días...\")\n",
        "print(\"(Esto puede tardar un momento...)\")\n"
      ]
    },
    {
      "cell_type": "code",
      "execution_count": 85,
      "metadata": {},
      "outputs": [
        {
          "name": "stdout",
          "output_type": "stream",
          "text": [
            "✅ Cálculo completado!\n",
            "\n",
            "📊 Estadísticas de ocupación:\n",
            "  Promedio de propiedades activas: 9537\n",
            "  Máximo de propiedades activas: 37396\n",
            "  Mínimo de propiedades activas: 1\n",
            "  Mediana: 3996\n"
          ]
        }
      ],
      "source": [
        "# 📊 PASO 2: Contar propiedades activas por día\n",
        "# =========================================================================\n",
        "\n",
        "ocupacion = []\n",
        "\n",
        "# Para cada fecha, contar cuántas propiedades están activas\n",
        "for fecha in fechas_analisis[::7]:  # Cada 7 días para acelerar (puedes cambiar a ::1 para cada día)\n",
        "    # Una propiedad está activa si:\n",
        "    # - Ya fue creada (fecha >= fecha_creacion)\n",
        "    # - Aún no fue vendida (fecha < fecha_venta) o no tiene fecha de venta\n",
        "    \n",
        "    activas = propiedades[\n",
        "        (propiedades['fecha_creacion_dt'] <= fecha) & \n",
        "        ((propiedades['fecha_venta_dt'] > fecha) | (propiedades['fecha_venta_dt'].isna()))\n",
        "    ]\n",
        "    \n",
        "    ocupacion.append({\n",
        "        'fecha': fecha,\n",
        "        'propiedades_activas': len(activas)\n",
        "    })\n",
        "\n",
        "ocupacion_df = pd.DataFrame(ocupacion)\n",
        "\n",
        "print(\"✅ Cálculo completado!\")\n",
        "print(f\"\\n📊 Estadísticas de ocupación:\")\n",
        "print(f\"  Promedio de propiedades activas: {ocupacion_df['propiedades_activas'].mean():.0f}\")\n",
        "print(f\"  Máximo de propiedades activas: {ocupacion_df['propiedades_activas'].max():.0f}\")\n",
        "print(f\"  Mínimo de propiedades activas: {ocupacion_df['propiedades_activas'].min():.0f}\")\n",
        "print(f\"  Mediana: {ocupacion_df['propiedades_activas'].median():.0f}\")\n"
      ]
    },
    {
      "cell_type": "code",
      "execution_count": 86,
      "metadata": {},
      "outputs": [
        {
          "name": "stdout",
          "output_type": "stream",
          "text": [
            "\n",
            "================================================================================\n",
            "🔥 ANÁLISIS CRÍTICO: Diferencia entre visitas por propiedad vs al sistema\n",
            "================================================================================\n",
            "\n",
            "📊 DATOS CLAVE:\n",
            "  1️⃣  Tiempo entre visitas POR PROPIEDAD:\n",
            "      → 11367 minutos\n",
            "      → 189.4 horas\n",
            "      → 7.9 días\n",
            "\n",
            "  2️⃣  Propiedades activas simultáneamente:\n",
            "      → Promedio: 9537 propiedades\n",
            "\n",
            "  3️⃣  Tiempo entre visitas AL SISTEMA COMPLETO:\n",
            "      → 1.19 minutos\n",
            "      → 0.02 horas\n",
            "      → 72 segundos\n",
            "\n",
            "  4️⃣  Visitas que recibe el SISTEMA por día:\n",
            "      → 1208 visitas/día\n",
            "\n",
            "================================================================================\n",
            "💡 CONCLUSIÓN:\n",
            "================================================================================\n",
            "Aunque CADA PROPIEDAD recibe visitas cada 7.9 días,\n",
            "el SISTEMA COMPLETO recibe visitas cada 1.19 minutos\n",
            "porque hay 9537 propiedades activas simultáneamente.\n",
            "================================================================================\n"
          ]
        }
      ],
      "source": [
        "# 🎯 PASO 3: Calcular tasa de llegada de visitas AL SISTEMA\n",
        "# =========================================================================\n",
        "\n",
        "print(\"\\n\" + \"=\"*80)\n",
        "print(\"🔥 ANÁLISIS CRÍTICO: Diferencia entre visitas por propiedad vs al sistema\")\n",
        "print(\"=\"*80)\n",
        "\n",
        "# Tiempo promedio entre visitas POR PROPIEDAD (ya lo calculamos)\n",
        "tiempo_entre_visitas_prop = datos_tiempo_contactos.mean()\n",
        "propiedades_activas_promedio = ocupacion_df['propiedades_activas'].mean()\n",
        "\n",
        "print(f\"\\n📊 DATOS CLAVE:\")\n",
        "print(f\"  1️⃣  Tiempo entre visitas POR PROPIEDAD:\")\n",
        "print(f\"      → {tiempo_entre_visitas_prop:.0f} minutos\")\n",
        "print(f\"      → {tiempo_entre_visitas_prop/60:.1f} horas\")\n",
        "print(f\"      → {tiempo_entre_visitas_prop/1440:.1f} días\")\n",
        "\n",
        "print(f\"\\n  2️⃣  Propiedades activas simultáneamente:\")\n",
        "print(f\"      → Promedio: {propiedades_activas_promedio:.0f} propiedades\")\n",
        "\n",
        "# CÁLCULO CLAVE: Tasa de llegada al sistema\n",
        "# Si cada propiedad recibe visitas cada T minutos, y hay N propiedades activas:\n",
        "# El sistema recibe visitas cada T/N minutos\n",
        "\n",
        "tiempo_entre_visitas_sistema = tiempo_entre_visitas_prop / propiedades_activas_promedio\n",
        "\n",
        "print(f\"\\n  3️⃣  Tiempo entre visitas AL SISTEMA COMPLETO:\")\n",
        "print(f\"      → {tiempo_entre_visitas_sistema:.2f} minutos\")\n",
        "print(f\"      → {tiempo_entre_visitas_sistema/60:.2f} horas\")\n",
        "print(f\"      → {tiempo_entre_visitas_sistema*60:.0f} segundos\")\n",
        "\n",
        "visitas_por_dia_sistema = 1440 / tiempo_entre_visitas_sistema  # 1440 min = 1 día\n",
        "\n",
        "print(f\"\\n  4️⃣  Visitas que recibe el SISTEMA por día:\")\n",
        "print(f\"      → {visitas_por_dia_sistema:.0f} visitas/día\")\n",
        "\n",
        "print(\"\\n\" + \"=\"*80)\n",
        "print(\"💡 CONCLUSIÓN:\")\n",
        "print(\"=\"*80)\n",
        "print(f\"Aunque CADA PROPIEDAD recibe visitas cada {tiempo_entre_visitas_prop/1440:.1f} días,\")\n",
        "print(f\"el SISTEMA COMPLETO recibe visitas cada {tiempo_entre_visitas_sistema:.2f} minutos\")\n",
        "print(f\"porque hay {propiedades_activas_promedio:.0f} propiedades activas simultáneamente.\")\n",
        "print(\"=\"*80)\n"
      ]
    },
    {
      "cell_type": "markdown",
      "metadata": {},
      "source": [
        "## 🎓 Resumen para tu Simulación\n",
        "\n",
        "### **Dos conceptos diferentes:**\n",
        "\n",
        "#### 1️⃣ **Tiempo entre visitas POR PROPIEDAD** (~7 días)\n",
        "- Lo que calculamos con el histograma\n",
        "- Es el tiempo promedio que pasa entre cada visita **a una propiedad específica**\n",
        "- **Uso en simulación:** Para generar cuándo llega la próxima visita a UNA propiedad\n",
        "\n",
        "#### 2️⃣ **Tiempo entre visitas AL SISTEMA** (mucho menor)\n",
        "- El tiempo entre visitas considerando TODAS las propiedades activas\n",
        "- **Fórmula:** `tiempo_sistema = tiempo_por_propiedad / num_propiedades_activas`\n",
        "- **Uso en simulación:** Para generar cuándo llega la próxima visita AL SISTEMA COMPLETO\n",
        "\n",
        "---\n",
        "\n",
        "### 💡 **Ejemplo conceptual:**\n",
        "\n",
        "Imagina un restaurante con 100 mesas:\n",
        "- **Por mesa:** En promedio, un cliente nuevo cada 2 horas\n",
        "- **Por restaurante:** Llegan clientes cada (2 horas / 100 mesas) = 1.2 minutos\n",
        "\n",
        "**Lo mismo pasa con tus propiedades:**\n",
        "- **Por propiedad:** Una visita cada 7 días\n",
        "- **Por sistema:** Una visita cada (7 días / N propiedades) = X minutos\n",
        "\n",
        "---\n",
        "\n",
        "### 📝 **Para tu simulación necesitas:**\n",
        "\n",
        "```python\n",
        "# Variable 1: Distribución de tiempo entre visitas por propiedad\n",
        "# → Usas la distribución ajustada (ej: Wald, lognorm, etc.)\n",
        "\n",
        "# Variable 2: Número de propiedades activas simultáneamente  \n",
        "# → Usas el promedio calculado arriba\n",
        "\n",
        "# Para generar llegadas de visitas al sistema:\n",
        "tiempo_llegada_sistema = tiempo_por_propiedad / num_propiedades_activas\n",
        "```\n"
      ]
    },
    {
      "cell_type": "code",
      "execution_count": 87,
      "metadata": {},
      "outputs": [
        {
          "name": "stdout",
          "output_type": "stream",
          "text": [
            "\n",
            "================================================================================\n",
            "🎓 EJEMPLO DIDÁCTICO\n",
            "================================================================================\n",
            "\n",
            "📖 Escenario simplificado:\n",
            "  - Tienes 100 propiedades activas\n",
            "  - Cada propiedad recibe visitas cada 10 días (14,400 minutos)\n",
            "\n",
            "❓ Pregunta 1: ¿Cuándo llega la próxima visita a la PROPIEDAD #7?\n",
            "   Respuesta: En promedio, dentro de 10 días\n",
            "\n",
            "❓ Pregunta 2: ¿Cuándo llega la próxima visita al SISTEMA?\n",
            "   (es decir, a cualquiera de las 100 propiedades)\n",
            "\n",
            "   Cálculo:\n",
            "   - Tiempo por propiedad: 10 días = 14,400 minutos\n",
            "   - Propiedades activas: 100\n",
            "   - Tiempo entre visitas al sistema: 14,400 / 100 = 144 minutos\n",
            "\n",
            "   Respuesta: Cada 144 minutos (2.4 horas) llega UNA visita al sistema\n",
            "\n",
            "💡 En 10 días:\n",
            "   - Cada propiedad individual: recibe 1 visita\n",
            "   - El sistema completo: recibe 100 visitas (1 por cada propiedad)\n",
            "\n",
            "================================================================================\n",
            "🎯 PARA TU SIMULACIÓN:\n",
            "================================================================================\n",
            "Si simulas el sistema completo, debes usar:\n",
            "  → Tasa de llegada: 1.19 minutos entre visitas\n",
            "  → NO uses 11367 minutos (ese es por propiedad)\n",
            "================================================================================\n"
          ]
        }
      ],
      "source": [
        "# 🎯 EJEMPLO NUMÉRICO CONCRETO para aclarar el concepto\n",
        "# =========================================================================\n",
        "\n",
        "print(\"\\n\" + \"=\"*80)\n",
        "print(\"🎓 EJEMPLO DIDÁCTICO\")\n",
        "print(\"=\"*80)\n",
        "\n",
        "print(\"\\n📖 Escenario simplificado:\")\n",
        "print(\"  - Tienes 100 propiedades activas\")\n",
        "print(\"  - Cada propiedad recibe visitas cada 10 días (14,400 minutos)\")\n",
        "print()\n",
        "\n",
        "# Caso 1: Visitas POR PROPIEDAD\n",
        "print(\"❓ Pregunta 1: ¿Cuándo llega la próxima visita a la PROPIEDAD #7?\")\n",
        "print(\"   Respuesta: En promedio, dentro de 10 días\")\n",
        "print()\n",
        "\n",
        "# Caso 2: Visitas AL SISTEMA\n",
        "print(\"❓ Pregunta 2: ¿Cuándo llega la próxima visita al SISTEMA?\")\n",
        "print(\"   (es decir, a cualquiera de las 100 propiedades)\")\n",
        "print()\n",
        "print(\"   Cálculo:\")\n",
        "print(\"   - Tiempo por propiedad: 10 días = 14,400 minutos\")\n",
        "print(\"   - Propiedades activas: 100\")\n",
        "print(\"   - Tiempo entre visitas al sistema: 14,400 / 100 = 144 minutos\")\n",
        "print()\n",
        "print(\"   Respuesta: Cada 144 minutos (2.4 horas) llega UNA visita al sistema\")\n",
        "print()\n",
        "\n",
        "print(\"💡 En 10 días:\")\n",
        "print(f\"   - Cada propiedad individual: recibe 1 visita\")\n",
        "print(f\"   - El sistema completo: recibe 100 visitas (1 por cada propiedad)\")\n",
        "print()\n",
        "\n",
        "print(\"=\"*80)\n",
        "print(\"🎯 PARA TU SIMULACIÓN:\")\n",
        "print(\"=\"*80)\n",
        "print(\"Si simulas el sistema completo, debes usar:\")\n",
        "print(f\"  → Tasa de llegada: {tiempo_entre_visitas_sistema:.2f} minutos entre visitas\")\n",
        "print(f\"  → NO uses {tiempo_entre_visitas_prop:.0f} minutos (ese es por propiedad)\")\n",
        "print(\"=\"*80)\n"
      ]
    },
    {
      "cell_type": "markdown",
      "metadata": {},
      "source": [
        "---\n",
        "---\n",
        "\n",
        "# 📊 ANÁLISIS DE PROBABILIDAD DE VENTA\n",
        "\n",
        "¿Qué tan probable es que una propiedad se venda?\n"
      ]
    },
    {
      "cell_type": "code",
      "execution_count": 88,
      "metadata": {},
      "outputs": [
        {
          "name": "stdout",
          "output_type": "stream",
          "text": [
            "================================================================================\n",
            "📊 ANÁLISIS DE VENTAS\n",
            "================================================================================\n",
            "\n",
            "📈 ESTADÍSTICAS GENERALES:\n",
            "  • Total de propiedades: 58,993\n",
            "  • Propiedades vendidas: 21,591 (36.60%)\n",
            "  • Propiedades NO vendidas: 37,402 (63.40%)\n",
            "\n",
            "🎯 PROBABILIDAD DE VENTA:\n",
            "  • P(Venta) = 36.60% = 0.3660\n",
            "  • P(No Venta) = 63.40% = 0.6340\n",
            "\n",
            "📊 ANÁLISIS POR ESTADO DE VENTA:\n",
            "--------------------------------------------------------------------------------\n",
            "  • Vendidas antes de expirar: 15,708\n",
            "  • Expiradas sin venta: 37,396\n",
            "\n",
            "⏱️  TIEMPO DE VENTA (para propiedades vendidas):\n",
            "  • Promedio: 152.1 días (219091 minutos)\n",
            "  • Mediana: 118.6 días (170717 minutos)\n",
            "\n",
            "================================================================================\n"
          ]
        }
      ],
      "source": [
        "# 📊 PROBABILIDAD DE VENTA: Análisis completo\n",
        "# =========================================================================\n",
        "\n",
        "print(\"=\"*80)\n",
        "print(\"📊 ANÁLISIS DE VENTAS\")\n",
        "print(\"=\"*80)\n",
        "\n",
        "# Total de propiedades\n",
        "total_propiedades = len(propiedades)\n",
        "\n",
        "# Propiedades con fecha de venta\n",
        "propiedades_vendidas = propiedades['fecha_venta'].notna().sum()\n",
        "propiedades_no_vendidas = propiedades['fecha_venta'].isna().sum()\n",
        "\n",
        "# Porcentajes\n",
        "porcentaje_vendidas = (propiedades_vendidas / total_propiedades) * 100\n",
        "porcentaje_no_vendidas = (propiedades_no_vendidas / total_propiedades) * 100\n",
        "\n",
        "print(f\"\\n📈 ESTADÍSTICAS GENERALES:\")\n",
        "print(f\"  • Total de propiedades: {total_propiedades:,}\")\n",
        "print(f\"  • Propiedades vendidas: {propiedades_vendidas:,} ({porcentaje_vendidas:.2f}%)\")\n",
        "print(f\"  • Propiedades NO vendidas: {propiedades_no_vendidas:,} ({porcentaje_no_vendidas:.2f}%)\")\n",
        "\n",
        "print(f\"\\n🎯 PROBABILIDAD DE VENTA:\")\n",
        "print(f\"  • P(Venta) = {porcentaje_vendidas:.2f}% = {porcentaje_vendidas/100:.4f}\")\n",
        "print(f\"  • P(No Venta) = {porcentaje_no_vendidas:.2f}% = {porcentaje_no_vendidas/100:.4f}\")\n",
        "\n",
        "# Análisis adicional: ventas por estado\n",
        "print(f\"\\n📊 ANÁLISIS POR ESTADO DE VENTA:\")\n",
        "print(\"-\" * 80)\n",
        "\n",
        "# Propiedades con fecha de venta Y expiración\n",
        "vendidas_antes_expiracion = propiedades[\n",
        "    (propiedades['fecha_venta'].notna()) & \n",
        "    (propiedades['fecha_venta'] <= propiedades['fecha_expiracion'])\n",
        "].shape[0]\n",
        "\n",
        "# Propiedades que expiraron sin vender\n",
        "expiradas_sin_venta = propiedades[\n",
        "    (propiedades['fecha_venta'].isna()) & \n",
        "    (propiedades['fecha_expiracion'].notna())\n",
        "].shape[0]\n",
        "\n",
        "print(f\"  • Vendidas antes de expirar: {vendidas_antes_expiracion:,}\")\n",
        "print(f\"  • Expiradas sin venta: {expiradas_sin_venta:,}\")\n",
        "\n",
        "# Tiempo promedio de venta (para las vendidas)\n",
        "propiedades_con_tiempo = propiedades[propiedades['diferencia_fechas_dt'] > 0]\n",
        "if len(propiedades_con_tiempo) > 0:\n",
        "    tiempo_promedio_venta = propiedades_con_tiempo['diferencia_fechas_dt'].mean()\n",
        "    tiempo_mediano_venta = propiedades_con_tiempo['diferencia_fechas_dt'].median()\n",
        "    \n",
        "    print(f\"\\n⏱️  TIEMPO DE VENTA (para propiedades vendidas):\")\n",
        "    print(f\"  • Promedio: {tiempo_promedio_venta/1440:.1f} días ({tiempo_promedio_venta:.0f} minutos)\")\n",
        "    print(f\"  • Mediana: {tiempo_mediano_venta/1440:.1f} días ({tiempo_mediano_venta:.0f} minutos)\")\n",
        "\n",
        "print(\"\\n\" + \"=\"*80)\n"
      ]
    },
    {
      "cell_type": "code",
      "execution_count": 89,
      "metadata": {},
      "outputs": [
        {
          "data": {
            "image/png": "[encoded data removed]",
            "text/plain": [
              "<Figure size 1800x500 with 3 Axes>"
            ]
          },
          "metadata": {},
          "output_type": "display_data"
        },
        {
          "name": "stdout",
          "output_type": "stream",
          "text": [
            "Para simulacion: Bernoulli con p = 0.3660\n"
          ]
        }
      ],
      "source": [
        "# VISUALIZACION: Probabilidad de Venta por propiedad\n",
        "import matplotlib.pyplot as plt\n",
        "\n",
        "fig, axes = plt.subplots(1, 3, figsize=(18, 5))\n",
        "\n",
        "# Grafico 1: Torta\n",
        "sizes = [propiedades_vendidas, propiedades_no_vendidas]\n",
        "labels = ['Vendidas', 'No Vendidas']\n",
        "axes[0].pie(sizes, labels=labels, autopct='%1.1f%%', colors=['lightgreen', 'lightcoral'])\n",
        "axes[0].set_title('Proporcion de Ventas')\n",
        "\n",
        "# Grafico 2: Barras cantidad\n",
        "axes[1].bar(labels, sizes, color=['green', 'red'])\n",
        "axes[1].set_ylabel('Cantidad')\n",
        "axes[1].set_title('Vendidas vs No Vendidas')\n",
        "\n",
        "# Grafico 3: Bernoulli (probabilidades)\n",
        "prob_venta = porcentaje_vendidas / 100\n",
        "axes[2].bar(['Venta', 'No Venta'], [prob_venta, 1-prob_venta], color=['green', 'red'])\n",
        "axes[2].set_ylabel('Probabilidad')\n",
        "axes[2].set_title('Distribucion Bernoulli')\n",
        "axes[2].set_ylim([0, 1])\n",
        "\n",
        "plt.tight_layout()\n",
        "plt.show()\n",
        "\n",
        "print(f\"Para simulacion: Bernoulli con p = {prob_venta:.4f}\")"
      ]
    },
    {
      "cell_type": "code",
      "execution_count": 92,
      "metadata": {},
      "outputs": [
        {
          "name": "stdout",
          "output_type": "stream",
          "text": [
            "================================================================================\n",
            "COMPARACIÓN: Probabilidad por PROPIEDAD vs por VISITA\n",
            "================================================================================\n",
            "\n",
            "1️⃣  PROBABILIDAD POR PROPIEDAD:\n",
            "    De todas las propiedades publicadas, ¿cuántas se venden?\n",
            "    P(Venta | Propiedad) = 0.3660 (36.60%)\n",
            "    Uso: Para decidir si una propiedad se venderá eventualmente\n",
            "\n",
            "2️⃣  PROBABILIDAD POR VISITA:\n",
            "    De cada visita individual, ¿cuántas resultan en venta?\n",
            "    P(Venta | Visita) = 0.063783 (6.3783%)\n",
            "    Uso: Para decidir si una visita específica resulta en venta\n",
            "\n",
            "📊 INTERPRETACIÓN:\n",
            "    • En promedio, una propiedad necesita 15.7 visitas para venderse\n",
            "    • Por tanto, cada visita tiene ~6.3783% de probabilidad de resultar en venta\n",
            "    • O sea: 1 de cada 15 visitas resulta en venta\n",
            "\n",
            "================================================================================\n",
            "🎯 PARA TU SIMULACIÓN:\n",
            "================================================================================\n",
            "\n",
            "💡 OPCIÓN A - Modelo simple:\n",
            "    Por cada visita: U ~ Uniform(0,1)\n",
            "    Si U < 0.063783 → VENTA\n",
            "\n",
            "💡 OPCIÓN B - Modelo realista:\n",
            "    1. Determinar si propiedad se venderá: U < 0.3660\n",
            "    2. Si SÍ, generar número de visitas necesarias ~ Geométrica(p=0.063783)\n",
            "================================================================================\n"
          ]
        }
      ],
      "source": [
        "# 📊 PROBABILIDAD DE VENTA POR VISITA\n",
        "# =========================================================================\n",
        "\n",
        "# Solo considerar propiedades vendidas (que tienen contactos)\n",
        "propiedades_vendidas_con_contactos = propiedades[\n",
        "    (propiedades['fecha_venta'].notna()) & \n",
        "    (propiedades['contactos'] > 0)\n",
        "]\n",
        "\n",
        "# Total de contactos recibidos por propiedades vendidas\n",
        "total_contactos_vendidas = propiedades_vendidas_con_contactos['contactos'].sum()\n",
        "\n",
        "# Total de ventas exitosas\n",
        "total_ventas = len(propiedades_vendidas_con_contactos)\n",
        "\n",
        "# Probabilidad de venta POR VISITA\n",
        "prob_venta_por_visita = total_ventas / total_contactos_vendidas\n",
        "\n",
        "print(\"=\"*80)\n",
        "print(\"COMPARACIÓN: Probabilidad por PROPIEDAD vs por VISITA\")\n",
        "print(\"=\"*80)\n",
        "\n",
        "print(f\"\\n1️⃣  PROBABILIDAD POR PROPIEDAD:\")\n",
        "print(f\"    De todas las propiedades publicadas, ¿cuántas se venden?\")\n",
        "print(f\"    P(Venta | Propiedad) = {porcentaje_vendidas/100:.4f} ({porcentaje_vendidas:.2f}%)\")\n",
        "print(f\"    Uso: Para decidir si una propiedad se venderá eventualmente\")\n",
        "\n",
        "print(f\"\\n2️⃣  PROBABILIDAD POR VISITA:\")\n",
        "print(f\"    De cada visita individual, ¿cuántas resultan en venta?\")\n",
        "print(f\"    P(Venta | Visita) = {prob_venta_por_visita:.6f} ({prob_venta_por_visita*100:.4f}%)\")\n",
        "print(f\"    Uso: Para decidir si una visita específica resulta en venta\")\n",
        "\n",
        "# Interpretación\n",
        "contactos_promedio_hasta_venta = propiedades_vendidas_con_contactos['contactos'].mean()\n",
        "\n",
        "print(f\"\\n📊 INTERPRETACIÓN:\")\n",
        "print(f\"    • En promedio, una propiedad necesita {contactos_promedio_hasta_venta:.1f} visitas para venderse\")\n",
        "print(f\"    • Por tanto, cada visita tiene ~{prob_venta_por_visita*100:.4f}% de probabilidad de resultar en venta\")\n",
        "print(f\"    • O sea: 1 de cada {int(1/prob_venta_por_visita)} visitas resulta en venta\")\n",
        "\n",
        "print(\"\\n\" + \"=\"*80)\n",
        "print(\"🎯 PARA TU SIMULACIÓN:\")\n",
        "print(\"=\"*80)\n",
        "print(\"\\n💡 OPCIÓN A - Modelo simple:\")\n",
        "print(f\"    Por cada visita: U ~ Uniform(0,1)\")\n",
        "print(f\"    Si U < {prob_venta_por_visita:.6f} → VENTA\")\n",
        "\n",
        "print(\"\\n💡 OPCIÓN B - Modelo realista:\")\n",
        "print(f\"    1. Determinar si propiedad se venderá: U < {porcentaje_vendidas/100:.4f}\")\n",
        "print(f\"    2. Si SÍ, generar número de visitas necesarias ~ Geométrica(p={prob_venta_por_visita:.6f})\")\n",
        "print(\"=\"*80)"
      ]
    },
    {
      "cell_type": "code",
      "execution_count": 93,
      "metadata": {
        "id": "X5RVOghgDqNl"
      },
      "outputs": [
        {
          "name": "stderr",
          "output_type": "stream",
          "text": [
            "/tmp/ipykernel_30066/178954088.py:28: UserWarning: Glyph 128202 (\\N{BAR CHART}) missing from font(s) DejaVu Sans.\n",
            "  plt.tight_layout()\n",
            "/tmp/ipykernel_30066/178954088.py:28: UserWarning: Glyph 127922 (\\N{GAME DIE}) missing from font(s) DejaVu Sans.\n",
            "  plt.tight_layout()\n"
          ]
        },
        {
          "data": {
            "image/png": "[encoded data removed]",
            "text/plain": [
              "<Figure size 1400x600 with 2 Axes>"
            ]
          },
          "metadata": {},
          "output_type": "display_data"
        }
      ],
      "source": [
        "# 📊 PASO 3: Verifica tu histograma simulado vs el real\n",
        "#\n",
        "# Compara visualmente qué tan bien tu distribución se ajusta a los datos reales\n",
        "\n",
        "plt.figure(figsize=(14, 6))\n",
        "\n",
        "# Subplot 1: Datos REALES\n",
        "plt.subplot(1, 2, 1)\n",
        "plt.hist(datos_tiempo_contactos, bins=100, density=True, alpha=0.7, \n",
        "         color='blue', edgecolor='black', label='Datos Reales')\n",
        "plt.xlabel('Tiempo entre contactos (minutos)', fontsize=11)\n",
        "plt.ylabel('Densidad', fontsize=11)\n",
        "plt.title('📊 Datos Reales', fontsize=13, fontweight='bold')\n",
        "plt.legend()\n",
        "plt.grid(axis='y', alpha=0.3)\n",
        "\n",
        "# Subplot 2: Datos SIMULADOS (con tu distribución)\n",
        "plt.subplot(1, 2, 2)\n",
        "plt.hist(fdp_f, bins=150, density=True, alpha=0.7, \n",
        "         color='red', edgecolor='black', label=f'Distribución: {distribucion_elegida}')\n",
        "plt.xlabel('Tiempo entre contactos (minutos)', fontsize=11)\n",
        "plt.ylabel('Densidad', fontsize=11)\n",
        "plt.title(f'🎲 Distribución Simulada ({distribucion_elegida})', fontsize=13, fontweight='bold')\n",
        "plt.xlim(0, 30000)\n",
        "plt.legend()\n",
        "plt.grid(axis='y', alpha=0.3)\n",
        "\n",
        "plt.tight_layout()\n",
        "plt.show()"
      ]
    }
  ],
  "metadata": {
    "colab": {
      "provenance": []
    },
    "kernelspec": {
      "display_name": ".venv",
      "language": "python",
      "name": "python3"
    },
    "language_info": {
      "codemirror_mode": {
        "name": "ipython",
        "version": 3
      },
      "file_extension": ".py",
      "mimetype": "text/x-python",
      "name": "python",
      "nbconvert_exporter": "python",
      "pygments_lexer": "ipython3",
      "version": "3.12.4"
    }
  },
  "nbformat": 4,
  "nbformat_minor": 0
}
